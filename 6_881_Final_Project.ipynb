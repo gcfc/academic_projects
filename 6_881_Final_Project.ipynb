{
  "nbformat": 4,
  "nbformat_minor": 0,
  "metadata": {
    "accelerator": "GPU",
    "colab": {
      "name": "6.881 Final Project",
      "provenance": [],
      "collapsed_sections": [
        "HSA69xRe1VXL",
        "jcay1S5IUuRt",
        "iHEvp1bHqUO4",
        "My18AOSbDt1g",
        "xghXBT6h91CY",
        "SEPAGRUauzKK",
        "31FZE6UVbQmU",
        "aMlu5UM3evRV",
        "KobijVNvCv0q",
        "CNYMRNsZEXwi"
      ],
      "include_colab_link": true
    },
    "kernelspec": {
      "display_name": "Python 3",
      "name": "python3"
    }
  },
  "cells": [
    {
      "cell_type": "markdown",
      "metadata": {
        "id": "view-in-github",
        "colab_type": "text"
      },
      "source": [
        "<a href=\"https://colab.research.google.com/github/gcfc/academic_projects/blob/main/6_881_Final_Project.ipynb\" target=\"_parent\"><img src=\"https://colab.research.google.com/assets/colab-badge.svg\" alt=\"Open In Colab\"/></a>"
      ]
    },
    {
      "cell_type": "markdown",
      "metadata": {
        "id": "sgEvj7fgo4PH"
      },
      "source": [
        "# A Geometric Approach to Recycling Cans via Vision-Based Manipulation\n",
        "### 6.881 Final Project \n",
        "#### George Chen, Susan Ni \n",
        "\n",
        "This project demonstrates the full manipulation pipeline taught in MIT 6.881 Robot Manipulation. There are notes within the code indicating where it was adapted from if applicable. \n",
        "\n",
        "<b><font color='green'>To run the simulation</font></b>:\n",
        "- Download the two SDF files [here](https://drive.google.com/drive/folders/1NKjct851-_GWZS2cdOsrkOrWvvxiyzOL?usp=sharing) and upload them to this notebook.\n",
        "- Run [Notebook Setup](https://colab.research.google.com/drive/1YcCZiwTrMGF67JR2YzF5zp4o3HmtLu72?authuser=1#scrollTo=rF6_3STtq8DA), [Project Class](https://colab.research.google.com/drive/1YcCZiwTrMGF67JR2YzF5zp4o3HmtLu72?authuser=1#scrollTo=l-y1owXtmPB7&line=1&uniqifier=1), and all cells within [Perception (<b>multi can</b>)](https://colab.research.google.com/drive/1YcCZiwTrMGF67JR2YzF5zp4o3HmtLu72?authuser=1#scrollTo=xghXBT6h91CY&line=1&uniqifier=1) sequentially.\n",
        "- Under [Motion Planning](https://colab.research.google.com/drive/1YcCZiwTrMGF67JR2YzF5zp4o3HmtLu72?authuser=1#scrollTo=ez_hSv7_zz_r) section, run first two cells sequentially. The second cell will output a link to meshcat to visualize the simulation environment.\n",
        "- Run the [last cell](https://colab.research.google.com/drive/1YcCZiwTrMGF67JR2YzF5zp4o3HmtLu72?authuser=1#scrollTo=vlEV5BKc3MZK&line=2&uniqifier=1) of the 'Motion Planning' section to run the simulation.\n",
        "\n",
        "Additional Notes:\n",
        "-  The [Perception (single can)](https://colab.research.google.com/drive/1YcCZiwTrMGF67JR2YzF5zp4o3HmtLu72?authuser=1#scrollTo=HSA69xRe1VXL&line=1&uniqifier=1) section demonstrates using anitpodal normals as a heuristic for generating grasp candidates. It can be visualized by running the 'Notebook Setup', 'Project Class', and 'Perception (single can)' sections sequentially. The first cell under the 'Perception (single can)' section outputs the meshcat link. However, there are <b>issues with running a perception section twice in a row</b>. If you want to run a perception section again, start by running cell sequentially from the very beginning of the notebook again."
      ]
    },
    {
      "cell_type": "markdown",
      "metadata": {
        "id": "rF6_3STtq8DA"
      },
      "source": [
        "###Notebook Setup###\n",
        "The following cell will install Drake, checkout the manipulation repository, and set up the path (only if necessary).\n",
        "- On Google's Colaboratory, this **will take approximately two minutes** on the first time it runs (to provision the machine), but should only need to reinstall once every 12 hours.  \n",
        "\n",
        "More details are available [here](http://manipulation.mit.edu/drake.html)."
      ]
    },
    {
      "cell_type": "code",
      "metadata": {
        "id": "vqV12ORfo26h"
      },
      "source": [
        "import importlib\n",
        "import os, sys\n",
        "from urllib.request import urlretrieve\n",
        "\n",
        "if 'google.colab' in sys.modules and importlib.util.find_spec('manipulation') is None:\n",
        "    urlretrieve(f\"http://manipulation.csail.mit.edu/scripts/setup/setup_manipulation_colab.py\",\n",
        "                \"setup_manipulation_colab.py\")\n",
        "    from setup_manipulation_colab import setup_manipulation\n",
        "    setup_manipulation(manipulation_sha='master', drake_version='20201130', drake_build='nightly')\n",
        "\n",
        "# setup ngrok server\n",
        "server_args = []\n",
        "if 'google.colab' in sys.modules:\n",
        "  server_args = ['--ngrok_http_tunnel']\n",
        "\n",
        "# Start a single meshcat server instance to use for the remainder of this notebook.\n",
        "from meshcat.servers.zmqserver import start_zmq_server_as_subprocess\n",
        "proc, zmq_url, web_url = start_zmq_server_as_subprocess(server_args=server_args)\n",
        "\n",
        "# Setup rendering (with xvfb):\n",
        "import os\n",
        "if 'google.colab' in sys.modules and os.getenv(\"DISPLAY\") is None:\n",
        "    from pyvirtualdisplay import Display\n",
        "    d = Display(visible=0, size=(1400, 900))\n",
        "    d.start()\n",
        "\n",
        "# Python imports\n",
        "import numpy as np\n",
        "import pydrake\n",
        "from pydrake.all import *\n",
        "import matplotlib.pyplot as plt\n",
        "from copy import deepcopy\n",
        "import open3d as o3d\n",
        "import meshcat.geometry as g\n",
        "import cv2\n",
        "\n",
        "# Determine if this notebook is currently running as a notebook or a unit test.\n",
        "from IPython import get_ipython\n",
        "running_as_notebook = get_ipython() and hasattr(get_ipython(), 'kernel')\n",
        "\n",
        "# other\n",
        "from pydrake.examples.manipulation_station import ManipulationStation, IiwaCollisionModel\n",
        "from pydrake.systems.jupyter_widgets import PoseSliders, WidgetSystem\n",
        "from ipywidgets import ToggleButton, ToggleButtons\n",
        "from manipulation.scenarios import AddRgbdSensors\n",
        "from manipulation.utils import FindResource\n",
        "from manipulation.open3d_utils import create_open3d_point_cloud\n",
        "from pydrake.multibody import inverse_kinematics\n",
        "from pydrake.trajectories import PiecewisePolynomial\n",
        "from manipulation.exercises.trajectories.rrt_planner.rrt_planning import Problem\n",
        "from manipulation.exercises.trajectories.rrt_planner.robot import Range, ConfigurationSpace\n",
        "from IPython.display import display, HTML, SVG\n",
        "from random import random\n",
        "import time"
      ],
      "execution_count": null,
      "outputs": []
    },
    {
      "cell_type": "markdown",
      "metadata": {
        "id": "l-y1owXtmPB7"
      },
      "source": [
        "### Project Class ###\n",
        "#### with helper functions for adding elements to scene and setting up different simulation environments ####\n",
        "\n",
        "Descriptions of the environments:\n",
        "- `slider_environment`: was used during initial simulation environment setup. The arm/gripped can be controlled via teleop to ensure contact geometry of the scene objects, physics, etc. are behaving correctly.\n",
        "- `plain_environment`: has front and back cameras and is used for antipodal grasping with a single object on the plate only.\n",
        "- `multi_object_environment`: has top camera only and is used for calculating grasp/pregrasp poses with multiple objects on the plate to be fed to the motion planning system. (i.e. used for perception)\n",
        "- `build_and_simulate_trajectory_environment`: to be used once the motion planning system outputs trajectories for the arm/gripper to follow. Has to have the same object positions as `multi_object_environment` in order to function as intended. (i.e. used to visualize motion planning based on the perception run in the `multi_object_environment`)"
      ]
    },
    {
      "cell_type": "code",
      "metadata": {
        "id": "Oxl4EFhQtqKu"
      },
      "source": [
        "class Project:\n",
        "    def __init__(self):\n",
        "        # camera images in form of self.{location}_rgb_im and self.{location}_depth_im\n",
        "        # i.e. for camera_top, self.top_rgb_im and self.top_depth_im\n",
        "\n",
        "        self.top_cam_pose = RigidTransform(RollPitchYaw(-np.pi, 0, np.pi/2), [-0.5, 0, 0.75])  # X_WC\n",
        "        self.front_cam_pose = RigidTransform(RotationMatrix.MakeXRotation(-np.pi + np.pi/4), [-0.5, -0.65, 0.55])  # X_WC from front\n",
        "        self.back_cam_pose = RigidTransform(RollPitchYaw(-np.pi + np.pi/4, 0, np.pi), [-0.5, 0.65, 0.55])  # X_WC from back\n",
        "        self.cam_info = CameraInfo(848, 480, 616.285, 615.778, 405.418, 232.864)\n",
        "\n",
        "    def set_up_station(self, station, plant, parser):\n",
        "        '''\n",
        "        Adds an iiwa (box collision model), wsg, and a camera.\n",
        "        Effectively replacing station.SetUpCutterClearingStation()\n",
        "        Adapted from: https://github.com/RobotLocomotion/drake/blob/master/bindings/pydrake/examples/test/manipulation_station_test.py\n",
        "        station: i.e what's returned from builder.AddSystem(ManipulationStation())\n",
        "        plant: i.e. from station.get_mutable_multibody_plant()\n",
        "        parser: i.e. Parser(plant, station.get_mutable_scene_graph())\n",
        "        '''\n",
        "        # Add model for iiwa.\n",
        "        iiwa_model_file = FindResourceOrThrow(\n",
        "            \"drake/manipulation/models/iiwa_description/iiwa7/iiwa7_with_box_collision.sdf\")\n",
        "        iiwa = parser.AddModelFromFile(iiwa_model_file, \"iiwa\")\n",
        "        X_WI = RigidTransform.Identity()\n",
        "        plant.WeldFrames(plant.world_frame(), plant.GetFrameByName(\"iiwa_link_0\", iiwa), X_WI)\n",
        "\n",
        "        # Add model for wsg.\n",
        "        wsg_model_file = FindResourceOrThrow(\n",
        "            \"drake/manipulation/models/wsg_50_description/sdf/schunk_wsg_50_no_tip.sdf\")\n",
        "        wsg = parser.AddModelFromFile(wsg_model_file, \"gripper\")\n",
        "        X_7G = RigidTransform(RollPitchYaw(np.pi/2, 0, np.pi/2), np.array([0, 0, 0.114]))\n",
        "        plant.WeldFrames(\n",
        "            plant.GetFrameByName(\"iiwa_link_7\", iiwa),\n",
        "            plant.GetFrameByName(\"body\", wsg),\n",
        "            X_7G)\n",
        "\n",
        "        # Register models for the controller.\n",
        "        station.RegisterIiwaControllerModel(\n",
        "            iiwa_model_file, iiwa, plant.world_frame(),\n",
        "            plant.GetFrameByName(\"iiwa_link_0\", iiwa), X_WI)\n",
        "        station.RegisterWsgControllerModel(\n",
        "            wsg_model_file, wsg,\n",
        "            plant.GetFrameByName(\"iiwa_link_7\", iiwa),\n",
        "            plant.GetFrameByName(\"body\", wsg), X_7G)\n",
        "        \n",
        "        # Add camera.\n",
        "        self.add_top_camera(station, plant, parser)\n",
        "        # self.add_two_cameras(station, plant, parser)\n",
        "\n",
        "    def add_two_cameras(self, station, plant, parser):\n",
        "        '''\n",
        "        Adds a camera in front of and behind litter plate.\n",
        "        '''\n",
        "        front_color_camera, front_depth_camera = self.make_camera_model()\n",
        "        station.RegisterRgbdSensor(\"front\", plant.world_frame(), self.front_cam_pose, front_color_camera, front_depth_camera)\n",
        "        camera_front = parser.AddModelFromFile(FindResource(\"models/camera_box.sdf\"), \"camera_front\")\n",
        "        plant.WeldFrames(plant.world_frame(), plant.GetFrameByName(\"base\", camera_front), self.front_cam_pose)\n",
        "\n",
        "        back_color_camera, back_depth_camera = self.make_camera_model()\n",
        "        station.RegisterRgbdSensor(\"back\", plant.world_frame(), self.back_cam_pose, back_color_camera, back_depth_camera)\n",
        "        camera_back = parser.AddModelFromFile(FindResource(\"models/camera_box.sdf\"), \"camera_back\")\n",
        "        plant.WeldFrames(plant.world_frame(), plant.GetFrameByName(\"base\", camera_back), self.back_cam_pose)\n",
        "\n",
        "    def add_top_camera(self, station, plant, parser):\n",
        "        '''\n",
        "        Adds a camera above the center of the litter plate.\n",
        "        '''\n",
        "        color_camera, depth_camera = self.make_camera_model()\n",
        "        station.RegisterRgbdSensor(\"top\", plant.world_frame(), self.top_cam_pose, color_camera, depth_camera)\n",
        "        top_camera = parser.AddModelFromFile(FindResource(\"models/camera_box.sdf\"), \"camera_top\")\n",
        "        plant.WeldFrames(plant.world_frame(), plant.GetFrameByName(\"base\", top_camera), self.top_cam_pose)\n",
        "        \n",
        "    def make_camera_model(self):\n",
        "        '''\n",
        "        Adapted from: https://github.com/RobotLocomotion/drake/blob/master/examples/manipulation_station/manipulation_station.cc#L156\n",
        "        '''\n",
        "        color_camera = ColorRenderCamera(\n",
        "            RenderCameraCore(\"manip_station_renderer\",\n",
        "                            self.cam_info,\n",
        "                            ClippingRange(0.01, 10.0),\n",
        "                            RigidTransform()),\n",
        "                            False)\n",
        "        depth_camera = DepthRenderCamera(color_camera.core(), DepthRange(0.1, 9.5))\n",
        "        return color_camera, depth_camera\n",
        "\n",
        "    def set_up_litter_plate(self, plant, parser):\n",
        "        '''\n",
        "        Adds a flat plate to the scene. (to hold cans to be recycled)\n",
        "        return: ModelInstanceIndex of plate\n",
        "        ''' \n",
        "        plate_index = parser.AddModelFromFile(\"/content/flat_box.sdf\")\n",
        "        X_WC = RigidTransform(RotationMatrix.Identity(), [-0.5, 0, 0])\n",
        "        plant.WeldFrames(plant.world_frame(), plant.GetFrameByName(\"base_link\", plate_index), X_WC)\n",
        "        \n",
        "    def set_up_bin(self, plant, parser):\n",
        "        '''\n",
        "        Adds a bin to the scene. (where recyclable cans should be placed)\n",
        "        Adapted from: https://github.com/RobotLocomotion/drake/blob/master/examples/manipulation_station/manipulation_station.cc\n",
        "        '''\n",
        "        bin_model_file = FindResourceOrThrow(\"drake/examples/manipulation_station/models/bin.sdf\");\n",
        "        X_WC = RigidTransform(RotationMatrix.Identity(), np.array([1, 0, 0]))\n",
        "        bin = parser.AddModelFromFile(bin_model_file, \"bin\")\n",
        "        plant.WeldFrames(plant.world_frame(), plant.GetFrameByName(\"bin_base\", bin), X_WC)\n",
        "\n",
        "    # TODO(susanni): when trying to use the coke can model from Gazebo -- RuntimeError: The Wavefront obj file has no faces.\n",
        "    def add_coke_can(self, plant, parser, num=0):\n",
        "        '''\n",
        "        return: BodyIndex of coke can\n",
        "        '''\n",
        "        # model_index = parser.AddModelFromFile(\"/content/coke_can/model_new.sdf\");\n",
        "        # Reference: https://github.com/RobotLocomotion/drake/blob/master/examples/manipulation_station/manipulation_station.cc#L177\n",
        "        model_index = parser.AddModelFromFile(\"/content/can.sdf\", \"cylinder\"+str(num))\n",
        "        indices = plant.GetBodyIndices(model_index)\n",
        "        return indices[0]\n",
        "\n",
        "    def slider_environment(self):\n",
        "        '''\n",
        "        Adapted from introduction colab from chapter 1: http://manipulation.csail.mit.edu/intro.html#example1\n",
        "        '''\n",
        "        builder = DiagramBuilder()\n",
        "\n",
        "        # ------ station setup ------\n",
        "        station = builder.AddSystem(ManipulationStation())\n",
        "        plant = station.get_mutable_multibody_plant()\n",
        "        parser = Parser(plant, station.get_mutable_scene_graph())\n",
        "\n",
        "        self.set_up_station(station, plant, parser)\n",
        "        self.set_up_bin(plant, parser)\n",
        "        self.set_up_litter_plate(plant, parser)\n",
        "\n",
        "        # litter.\n",
        "        can_index = self.add_coke_can(plant, parser)\n",
        "\n",
        "        station.Finalize()\n",
        "        # ---------------------------\n",
        "\n",
        "        meshcat = ConnectMeshcatVisualizer(\n",
        "            builder,\n",
        "            station.get_scene_graph(),\n",
        "            output_port=station.GetOutputPort(\"pose_bundle\"),\n",
        "            zmq_url=zmq_url)\n",
        "\n",
        "        robot = station.get_controller_plant()\n",
        "        params = DifferentialInverseKinematicsParameters(robot.num_positions(), robot.num_velocities())\n",
        "\n",
        "        time_step = 0.005\n",
        "        params.set_timestep(time_step)\n",
        "        # True velocity limits for the IIWA14 (in rad, rounded down to the first decimal)\n",
        "        iiwa14_velocity_limits = np.array([1.4, 1.4, 1.7, 1.3, 2.2, 2.3, 2.3])\n",
        "        params.set_joint_velocity_limits((-iiwa14_velocity_limits, iiwa14_velocity_limits))\n",
        "\n",
        "        differential_ik = builder.AddSystem(pydrake.manipulation.planner.DifferentialInverseKinematicsIntegrator(\n",
        "            robot, robot.GetFrameByName(\"iiwa_link_7\"), time_step, params))\n",
        "        builder.Connect(differential_ik.get_output_port(), station.GetInputPort(\"iiwa_position\"))\n",
        "\n",
        "        teleop = builder.AddSystem(PoseSliders(\n",
        "            min_range = PoseSliders.MinRange(roll=0, pitch=-0.5, yaw=-np.pi, x=-0.6, y=-0.8, z=0.0),\n",
        "            max_range = PoseSliders.MaxRange(roll=2*np.pi, pitch=np.pi, yaw=np.pi, x=0.8, y=0.3, z=1.1)\n",
        "        ))\n",
        "        builder.Connect(teleop.get_output_port(0), differential_ik.get_input_port())\n",
        "\n",
        "        wsg_buttons = ToggleButtons(value=0.107, description=\"SchunkWsg\", options=[('Open', 0.107), ('Close', 0.002)])\n",
        "        wsg_teleop = builder.AddSystem(WidgetSystem([wsg_buttons]))\n",
        "        builder.Connect(wsg_teleop.get_output_port(0), station.GetInputPort(\"wsg_position\"))\n",
        "\n",
        "        diagram = builder.Build()\n",
        "        simulator = Simulator(diagram)  # allows for collision geometry and physics\n",
        "\n",
        "        context = simulator.get_mutable_context()\n",
        "        station_context = station.GetMyMutableContextFromRoot(context)\n",
        "\n",
        "        plant.SetFreeBodyPose(  # setting pose for coke can\n",
        "            station_context, plant.get_body(can_index),\n",
        "            RigidTransform(RotationMatrix.MakeZRotation(np.pi/2.0), [-.2, -.4, 0.09]))\n",
        "\n",
        "        q0 = station.GetOutputPort(\"iiwa_position_measured\").Eval(station_context)\n",
        "        differential_ik.get_mutable_parameters().set_nominal_joint_position(q0)\n",
        "        diff_ik_context = differential_ik.GetMyMutableContextFromRoot(context)\n",
        "        differential_ik.SetPositions(diff_ik_context, q0)\n",
        "        teleop.SetPose(differential_ik.ForwardKinematics(diff_ik_context))\n",
        "\n",
        "        meshcat.load()\n",
        "\n",
        "        self.top_rgb_im = station.GetOutputPort('camera_top_rgb_image').Eval(station_context).data\n",
        "        self.top_depth_im = station.GetOutputPort('camera_top_depth_image').Eval(station_context).data.squeeze()\n",
        "\n",
        "        if running_as_notebook:  # Then we're not just running as a test on CI.\n",
        "            simulator.set_target_realtime_rate(1.0)\n",
        "\n",
        "            # Open the meshcat visualizer window (check your pop-up blocker).\n",
        "            # open_window(visualizer.vis.url(), \"meshcat\")\n",
        "            \n",
        "            stop_button = ToggleButton(value=False, description='Stop Simulation')\n",
        "            display(stop_button)\n",
        "            while not stop_button.value:\n",
        "                simulator.AdvanceTo(simulator.get_context().get_time() + 2.0)\n",
        "\n",
        "            stop_button.value = False\n",
        "          \n",
        "        else:\n",
        "            simulator.AdvanceTo(0.1)\n",
        "    \n",
        "    def plain_environment(self):\n",
        "        '''\n",
        "        Has all elements in the scene but no way to move arm.\n",
        "        Mostly for testing using front/back cameras with single can in scene.\n",
        "        '''\n",
        "        builder = DiagramBuilder()\n",
        "\n",
        "        # ------ station setup ------\n",
        "        station = builder.AddSystem(ManipulationStation())\n",
        "        plant = station.get_mutable_multibody_plant()\n",
        "        parser = Parser(plant, station.get_mutable_scene_graph())\n",
        "\n",
        "        self.set_up_station(station, plant, parser)\n",
        "        self.add_two_cameras(station, plant, parser)  # adding front and back cameras.\n",
        "        self.set_up_bin(plant, parser)\n",
        "        self.set_up_litter_plate(plant, parser)\n",
        "\n",
        "        # litter.\n",
        "        can_index = self.add_coke_can(plant, parser)\n",
        "\n",
        "        station.Finalize()\n",
        "        # ---------------------------\n",
        "\n",
        "        meshcat = ConnectMeshcatVisualizer(\n",
        "            builder,\n",
        "            station.get_scene_graph(),\n",
        "            output_port=station.GetOutputPort(\"pose_bundle\"),\n",
        "            zmq_url=zmq_url)\n",
        "\n",
        "        diagram = builder.Build()\n",
        "        simulator = Simulator(diagram)  # allows for collision geometry and physics\n",
        "\n",
        "        context = simulator.get_mutable_context()\n",
        "        station_context = station.GetMyMutableContextFromRoot(context)\n",
        "\n",
        "        plant.SetFreeBodyPose(  # setting pose for coke can\n",
        "            station_context, plant.get_body(can_index),\n",
        "            RigidTransform(RollPitchYaw(-np.pi/2+4*np.pi/12, np.pi/2, 0), [-0.6, 0.2, 0.09]))\n",
        "\n",
        "        meshcat.load()\n",
        "        simulator.AdvanceTo(0.1)\n",
        "\n",
        "        self.top_rgb_im = station.GetOutputPort('camera_top_rgb_image').Eval(station_context).data\n",
        "        self.top_depth_im = station.GetOutputPort('camera_top_depth_image').Eval(station_context).data.squeeze()\n",
        "        self.front_rgb_im = station.GetOutputPort('camera_front_rgb_image').Eval(station_context).data\n",
        "        self.front_depth_im = station.GetOutputPort('camera_front_depth_image').Eval(station_context).data.squeeze()\n",
        "        self.back_rgb_im = station.GetOutputPort('camera_back_rgb_image').Eval(station_context).data\n",
        "        self.back_depth_im = station.GetOutputPort('camera_back_depth_image').Eval(station_context).data.squeeze()\n",
        "\n",
        "        return meshcat.vis\n",
        "\n",
        "    def multi_object_environment(self):\n",
        "        '''\n",
        "        Has all elements in the scene but no way to move arm.\n",
        "        Mostly testing using top camera with multiple cans in scene.\n",
        "        '''\n",
        "        builder = DiagramBuilder()\n",
        "\n",
        "        # ------ station setup ------\n",
        "        station = builder.AddSystem(ManipulationStation())\n",
        "        plant = station.get_mutable_multibody_plant()\n",
        "        parser = Parser(plant, station.get_mutable_scene_graph())\n",
        "\n",
        "        self.set_up_station(station, plant, parser)\n",
        "        self.set_up_bin(plant, parser)\n",
        "        self.set_up_litter_plate(plant, parser)\n",
        "\n",
        "        # litter.\n",
        "        can_index = self.add_coke_can(plant, parser)\n",
        "        can_index2 = self.add_coke_can(plant, parser, 1)\n",
        "        can_index3 = self.add_coke_can(plant, parser, 2)\n",
        "\n",
        "        station.Finalize()\n",
        "        # ---------------------------\n",
        "\n",
        "        meshcat = ConnectMeshcatVisualizer(\n",
        "            builder,\n",
        "            station.get_scene_graph(),\n",
        "            output_port=station.GetOutputPort(\"pose_bundle\"),\n",
        "            zmq_url=zmq_url)\n",
        "\n",
        "        diagram = builder.Build()\n",
        "        simulator = Simulator(diagram)  # allows for collision geometry and physics\n",
        "\n",
        "        context = simulator.get_mutable_context()\n",
        "        station_context = station.GetMyMutableContextFromRoot(context)\n",
        "\n",
        "        plant.SetFreeBodyPose(  # setting pose for coke can\n",
        "            station_context, plant.get_body(can_index),\n",
        "            RigidTransform(RollPitchYaw(-np.pi/2+4*np.pi/12, np.pi/2, 0), [-0.6, 0.2, 0.09]))\n",
        "        plant.SetFreeBodyPose(\n",
        "            station_context, plant.get_body(can_index2),\n",
        "            RigidTransform(RollPitchYaw(-7*np.pi/12, np.pi/2, 0), [-0.55, -0.05, 0.09]))\n",
        "        plant.SetFreeBodyPose(\n",
        "            station_context, plant.get_body(can_index3),\n",
        "            RigidTransform(RollPitchYaw(0, 0, 0), [-0.3, -0.25, 0.09]))\n",
        "\n",
        "        meshcat.load()\n",
        "        simulator.AdvanceTo(0.1)\n",
        "\n",
        "        gripper = plant.GetBodyByName(\"body\")\n",
        "        initial_pose = plant.EvalBodyPoseInWorld(plant.CreateDefaultContext(), gripper)\n",
        "        print(\"initial pose trans:\", initial_pose.translation())\n",
        "\n",
        "        self.top_rgb_im = station.GetOutputPort('camera_top_rgb_image').Eval(station_context).data\n",
        "        self.top_depth_im = station.GetOutputPort('camera_top_depth_image').Eval(station_context).data.squeeze()\n",
        "        \n",
        "        return meshcat.vis, initial_pose\n",
        "\n",
        "    def build_and_simulate_trajectory_environment(self,q_traj, g_traj):\n",
        "        \"\"\"\n",
        "        Simulate trajectory for manipulation station.\n",
        "        To be used in conjusction with `multi_object_environment`.\n",
        "        Adapted from `door_opening.ipynb` pset.\n",
        "        :param q_traj: Trajectory class used to initialize TrajectorySource for joints.\n",
        "        :param g_traj: Trajectory class used to initialize TrajectorySource for gripper.\n",
        "        \"\"\"\n",
        "        builder = DiagramBuilder()\n",
        "\n",
        "        # ------ station setup ------\n",
        "        station = builder.AddSystem(ManipulationStation())\n",
        "        plant = station.get_mutable_multibody_plant()\n",
        "        parser = Parser(plant, station.get_mutable_scene_graph())\n",
        "\n",
        "        self.set_up_station(station, plant, parser)\n",
        "        self.set_up_bin(plant, parser)\n",
        "        self.set_up_litter_plate(plant, parser)\n",
        "\n",
        "        # litter.\n",
        "        can_index = self.add_coke_can(plant, parser)\n",
        "        can_index2 = self.add_coke_can(plant, parser, 1)\n",
        "        can_index3 = self.add_coke_can(plant, parser, 2)\n",
        "\n",
        "        station.Finalize()\n",
        "        # ---------------------------\n",
        "\n",
        "        q_traj_system = builder.AddSystem(TrajectorySource(q_traj))\n",
        "        g_traj_system = builder.AddSystem(TrajectorySource(g_traj))\n",
        "\n",
        "        meshcat = ConnectMeshcatVisualizer(builder,\n",
        "                station.get_scene_graph(),\n",
        "                output_port=station.GetOutputPort(\"pose_bundle\"),\n",
        "                delete_prefix_on_load=True,\n",
        "                frames_to_draw={\"gripper\":{\"body\"}},\n",
        "                zmq_url=zmq_url)\n",
        "        \n",
        "        builder.Connect(q_traj_system.get_output_port(),\n",
        "                        station.GetInputPort(\"iiwa_position\"))\n",
        "        builder.Connect(g_traj_system.get_output_port(),\n",
        "                        station.GetInputPort(\"wsg_position\"))\n",
        "\n",
        "        diagram = builder.Build()\n",
        "        simulator = Simulator(diagram)\n",
        "\n",
        "        context = simulator.get_mutable_context()\n",
        "        station_context = station.GetMyMutableContextFromRoot(context)\n",
        "\n",
        "        # !! Have to be the same as the can poses in `multi_object_environment` !!\n",
        "        plant.SetFreeBodyPose(  # setting pose for coke can\n",
        "            station_context, plant.get_body(can_index),\n",
        "            RigidTransform(RollPitchYaw(-np.pi/2+4*np.pi/12, np.pi/2, 0), [-0.6, 0.2, 0.09]))\n",
        "        plant.SetFreeBodyPose(\n",
        "            station_context, plant.get_body(can_index2),\n",
        "            RigidTransform(RollPitchYaw(-7*np.pi/12, np.pi/2, 0), [-0.55, -0.05, 0.09]))\n",
        "        plant.SetFreeBodyPose(\n",
        "            station_context, plant.get_body(can_index3),\n",
        "            RigidTransform(RollPitchYaw(0, 0, 0), [-0.3, -0.25, 0.09]))\n",
        "\n",
        "        meshcat.load()\n",
        "        simulator.set_target_realtime_rate(10.0)  # speed up simulation x10.\n",
        "        simulator.AdvanceTo(0.01)\n",
        "\n",
        "        self.top_rgb_im = station.GetOutputPort('camera_top_rgb_image').Eval(station_context).data\n",
        "        self.top_depth_im = station.GetOutputPort('camera_top_depth_image').Eval(station_context).data.squeeze()\n",
        "        \n",
        "        context = diagram.CreateDefaultContext()\n",
        "        diagram.Publish(context)\n",
        "        return meshcat.vis, simulator, plant, diagram  # (vis, simulator, station_plant, diagram)\n",
        "\n",
        "    def project_depth_to_pC(self, depth_pixel, uv=None):\n",
        "        \"\"\"\n",
        "        Adapted from `normal_estimation_depth.ipynb` pset.\n",
        "        Project depth pixels to points in camera frame using pinhole camera model.\n",
        "        :param depth_pixels: numpy array of (nx3) or (3,)\n",
        "        :return: pC -- 3D point in camera frame, numpy array of (nx3)\n",
        "        \"\"\"\n",
        "        # switch u,v due to python convention\n",
        "        v = depth_pixel[:,0]\n",
        "        u = depth_pixel[:,1]\n",
        "        Z = depth_pixel[:,2]\n",
        "        # read camera intrinsics\n",
        "        cx = self.cam_info.center_x()\n",
        "        cy = self.cam_info.center_y()\n",
        "        fx = self.cam_info.focal_x()\n",
        "        fy = self.cam_info.focal_y()\n",
        "        X = (u-cx) * Z/fx\n",
        "        Y = (v-cy) * Z/fy\n",
        "        pC = np.c_[X,Y,Z]\n",
        "        return pC\n",
        "\n",
        "    def get_top_rgb_im(self):\n",
        "        return deepcopy(self.top_rgb_im)\n",
        "\n",
        "    def get_top_depth_im(self):\n",
        "        return deepcopy(self.top_depth_im)\n",
        "\n",
        "    def get_front_rgb_im(self):\n",
        "        return deepcopy(self.front_rgb_im)\n",
        "\n",
        "    def get_front_depth_im(self):\n",
        "        return deepcopy(self.front_depth_im)\n",
        "    \n",
        "    def get_back_rgb_im(self):\n",
        "        return deepcopy(self.back_rgb_im)\n",
        "\n",
        "    def get_back_depth_im(self):\n",
        "        return deepcopy(self.back_depth_im)\n",
        "            "
      ],
      "execution_count": null,
      "outputs": []
    },
    {
      "cell_type": "markdown",
      "metadata": {
        "id": "HSA69xRe1VXL"
      },
      "source": [
        "## Perception (single can) ###\n",
        "\n",
        "!! <b><font color='red'>DO NOT</font></b> RUN THE CELLS WITHIN THIS SECTION !! (unless that's what you wanted to do...)\n",
        "\n",
        "The code within this section was used to test perception with a single can in the scene and the antipodal normal heuristic for generating grasp candidates."
      ]
    },
    {
      "cell_type": "code",
      "metadata": {
        "colab": {
          "base_uri": "https://localhost:8080/"
        },
        "id": "w8O0pY577g4Z",
        "outputId": "0c02898f-6c8f-43eb-ad55-356dfb57b0d7"
      },
      "source": [
        "# Setting up environment.\n",
        "project = Project()\n",
        "vis = project.plain_environment()"
      ],
      "execution_count": null,
      "outputs": [
        {
          "output_type": "stream",
          "text": [
            "Connecting to meshcat-server at zmq_url=tcp://127.0.0.1:6000...\n",
            "You can open the visualizer by visiting the following URL:\n",
            "http://9b987fdf4900.ngrok.io/static/\n",
            "Connected to meshcat-server.\n"
          ],
          "name": "stdout"
        },
        {
          "output_type": "stream",
          "text": [
            "/opt/drake/lib/python3.6/site-packages/pydrake/systems/meshcat_visualizer.py:426: DrakeDeprecationWarning: The pose_bundle input port is deprecated.  Use e.g.\n",
            "builder.Connect(scene_graph.get_query_output_port(), visualizer.get_geometry_query_input_port())\n",
            "instead. The deprecated code will be removed from Drake on or after 2021-03-01.\n",
            "  \"instead.\", date=\"2021-03-01\")\n"
          ],
          "name": "stderr"
        }
      ]
    },
    {
      "cell_type": "markdown",
      "metadata": {
        "id": "jcay1S5IUuRt"
      },
      "source": [
        "###Utilities###"
      ]
    },
    {
      "cell_type": "code",
      "metadata": {
        "id": "WXjq95CaUruS"
      },
      "source": [
        "\"\"\"\n",
        "Adapted from \"pose_estimation_icp.ipynb\" pset\n",
        "Point Cloud Utilities. Converts between three forms of pointcloud objects:\n",
        "  - Drake Pointcloud Object\n",
        "  - Open3d Pointcloud Object\n",
        "  - Nx3 numpy array\n",
        "\"\"\"\n",
        "  \n",
        "def pcl_np2drake(pcl_np, color):\n",
        "    \"\"\"\n",
        "    Input: Nx3 np array of points in mm, and and 3x1 np array of color using uin8 format.\n",
        "    Output: drake Pointcloud object. \n",
        "    \"\"\"\n",
        "    assert(pcl_np.shape[1] == 3) # sanity check. \n",
        "    pcl_drake = PointCloud(new_size = pcl_np.shape[0],\n",
        "                           fields= Fields(BaseField.kXYZs | BaseField.kRGBs))\n",
        "    xyzs = pcl_drake.mutable_xyzs()\n",
        "    xyzs[:,:] = np.array(pcl_np).transpose()\n",
        "    rgbs = pcl_drake.mutable_rgbs()\n",
        "    rgbs[:,:] = np.tile(color, (pcl_np.shape[0], 1)).transpose()\n",
        "    return pcl_drake\n",
        "\n",
        "def visualize_pointcloud(vis, pcl, name=\"point_cloud\", X_WC=RigidTransform()):\n",
        "    \"\"\"\n",
        "    pcl: Drake pointcloud object. (n x 3)\n",
        "    All other formats should convert to this format before passing to visualization. \n",
        "    \"\"\"\n",
        "    vis[name].set_object(g.PointCloud(X_WC.multiply(pcl.xyzs()), pcl.rgbs() / 255., size=0.001))\n",
        "\n",
        "def visualize_pointcloud_xyzrgb(vis, pcl_xyz, pcl_rgb, name=\"point_cloud\", X_WC=RigidTransform()):\n",
        "    \"\"\"\n",
        "    Visualization function to access Meshcat's method more directly. \n",
        "    \"\"\"\n",
        "    vis[name].set_object(g.PointCloud(X_WC.multiply(pcl_xyz), pcl_rgb / 255., size=0.001))\n",
        "\n",
        "# ------------------------------------------------------------------------------\n",
        "\n",
        "def plotting(im1, im2, fig_num):\n",
        "    plt.figure(fig_num)\n",
        "    plt.subplot(1, 2, 1)\n",
        "    plt.imshow(im1)\n",
        "    plt.subplot(1, 2, 2)\n",
        "    plt.imshow(im2)\n",
        "\n",
        "def adjust_depth_image(im):\n",
        "    new_im = deepcopy(im)\n",
        "    # the values of 690 are the distance from camera to plate x1000\n",
        "    new_im = new_im/1000\n",
        "    new_im[new_im >= 10] = 1  # attempting to filter out values out of range of depth camera\n",
        "    return new_im\n",
        "\n",
        "def make_mask(im):\n",
        "    # plate_color = np.array([233, 246, 254, 255])  # approxmiate color of the plate with no shadow.\n",
        "    u, v, w = im.shape\n",
        "    flat_im = im.reshape((u*v,w))  # 1D array where each element is a color vector.\n",
        "    # choosing all pixels that are not the plate color.\n",
        "    # flat_mask = np.logical_not(np.logical_and(np.all(flat_im >= plate_color - 50, axis=1), np.all(flat_im <= plate_color + 50, axis=1)))\n",
        "    flat_mask = np.logical_not(np.all(flat_im >= 100, axis=1))\n",
        "\n",
        "    mask = flat_mask.reshape((u, v))\n",
        "    # some points along the edge of the mask are shadows on the background (?) and they map to the\n",
        "    # plate, not the can, so if the edges are eroded away, then these outliers won't be included.\n",
        "    kernel = np.ones((3,3))\n",
        "    erode = cv2.erode(np.array(mask, dtype='uint8'), kernel)\n",
        "    mask = (erode == 1)\n",
        "    return mask\n",
        "\n",
        "def crop_out_arm(im, camera='front'):\n",
        "    '''\n",
        "    The arm is in the camera images and we can do some pre-processing to crop it out.\n",
        "    '''\n",
        "    new_im = deepcopy(im)\n",
        "    background_color = np.array([204, 229, 255, 255])\n",
        "    if camera == 'front':  # y = (125/480)x + 625\n",
        "        for r in range(new_im.shape[0]):\n",
        "            new_im[r, int((125/480)*r + 625):] = background_color\n",
        "    if camera == 'back':  # y = (-5/16)x + 200\n",
        "        for r in range(new_im.shape[0]):\n",
        "            new_im[r, :int((-5/16)*r + 200)] = background_color\n",
        "    return new_im"
      ],
      "execution_count": null,
      "outputs": []
    },
    {
      "cell_type": "markdown",
      "metadata": {
        "id": "ayqCZJvWGD6-"
      },
      "source": [
        "### Segmentation (front + back cameras) ###"
      ]
    },
    {
      "cell_type": "code",
      "metadata": {
        "id": "doEfh6XtGM0Q",
        "colab": {
          "base_uri": "https://localhost:8080/",
          "height": 380
        },
        "outputId": "247fa063-00d0-4f5d-f477-0f8ec2b9b114"
      },
      "source": [
        "# RGB image\n",
        "back_rgb_im = project.get_back_rgb_im()\n",
        "back_rgb_im = crop_out_arm(back_rgb_im, 'back')\n",
        "front_rgb_im = project.get_front_rgb_im()\n",
        "front_rgb_im = crop_out_arm(front_rgb_im, 'front')\n",
        "\n",
        "plotting(front_rgb_im, back_rgb_im, 1)\n",
        "\n",
        "# Depth image\n",
        "back_depth_im = adjust_depth_image(project.get_back_depth_im())\n",
        "front_depth_im = adjust_depth_image(project.get_front_depth_im())\n",
        "\n",
        "plotting(front_depth_im, back_depth_im, 2)\n",
        "\n",
        "# RGB image mask\n",
        "front_mask = make_mask(front_rgb_im)\n",
        "front_mask[0, 847] = False\n",
        "back_mask = make_mask(back_rgb_im)\n",
        "\n",
        "plotting(front_mask, back_mask, 3)"
      ],
      "execution_count": null,
      "outputs": [
        {
          "output_type": "display_data",
          "data": {
            "image/png": "[encoded data removed]",
            "text/plain": [
              "<Figure size 432x288 with 2 Axes>"
            ]
          },
          "metadata": {
            "tags": [],
            "needs_background": "light"
          }
        },
        {
          "output_type": "display_data",
          "data": {
            "image/png": "[encoded data removed]",
            "text/plain": [
              "<Figure size 432x288 with 2 Axes>"
            ]
          },
          "metadata": {
            "tags": [],
            "needs_background": "light"
          }
        },
        {
          "output_type": "display_data",
          "data": {
            "image/png": "[encoded data removed]",
            "text/plain": [
              "<Figure size 432x288 with 2 Axes>"
            ]
          },
          "metadata": {
            "tags": [],
            "needs_background": "light"
          }
        }
      ]
    },
    {
      "cell_type": "code",
      "metadata": {
        "id": "oqLbnJF7LDYz"
      },
      "source": [
        "# --- Generating point cloud of can using camera images ---\n",
        "def image_to_points(project, depth_im):\n",
        "    '''\n",
        "    Projecting depth image data into pc points in camera frame.\n",
        "    Adapted from 'normal_estimation_depth.ipynb' pset.\n",
        "    :param depth_im: depth image\n",
        "    :return: 1D array of point cloud points in camera frame\n",
        "    '''\n",
        "    # making each element in depth_pnts (index, depth)\n",
        "    u_range = np.arange(depth_im.shape[0])\n",
        "    v_range = np.arange(depth_im.shape[1])\n",
        "    depth_v, depth_u = np.meshgrid(v_range, u_range)\n",
        "    depth_pnts = np.dstack([depth_u, depth_v, depth_im])\n",
        "    depth_pnts = depth_pnts.reshape([depth_pnts.shape[0]*depth_pnts.shape[1], 3])\n",
        "    pC = project.project_depth_to_pC(depth_pnts)  # 1D array of point cloud point coords in camera frame\n",
        "    return pC\n",
        "\n",
        "def points_to_world_frame(pC, X_WC, mask=None):\n",
        "    '''\n",
        "    Projects point cloud points from camera frame to world frame. If a mask\n",
        "    is specified, then only keep point cloud points correponding to pixels\n",
        "    with value 1 in mask.\n",
        "    :param pC: 1D list of point cloud points (n x 3)\n",
        "    :param X_WC: transform of camera in world frame\n",
        "    :param mask: True at pixel to keep in depth image and False otherwise (HAS TO BE BOOLEAN)\n",
        "    :return: 1D array of point cloud points in world frame. (3 x m)\n",
        "    '''\n",
        "    if mask is None: return X_WC.multiply(pC)\n",
        "    pC = pC.reshape(mask.shape + (3,))               # returning pC back into 2D array the size of mask\n",
        "    can_pts_camera = pC[mask]                        # only want pc points corresponding to the can (m x 3)\n",
        "    can_pts_world = X_WC.multiply(can_pts_camera.T)  # converting points to world frame (3 x m)\n",
        "    return can_pts_world\n",
        "\n",
        "# ------------------------------------------------------------------------------\n",
        "\n",
        "front_can_pts_camera = image_to_points(project, front_depth_im)  # n x 3\n",
        "front_can_pts_world = points_to_world_frame(front_can_pts_camera, project.front_cam_pose, front_mask)  # 3 x m\n",
        "back_can_pts_camera = image_to_points(project, back_depth_im)\n",
        "back_can_pts_world = points_to_world_frame(back_can_pts_camera, project.back_cam_pose, back_mask)\n",
        "\n",
        "all_pts = np.concatenate((front_can_pts_world.T, back_can_pts_world.T))  # p x 3\n",
        "# visualize_pointcloud(vis, pcl_np2drake(front_can_pts_world.T, [56, 186, 58]), name='pcl_can_front')\n",
        "# visualize_pointcloud(vis, pcl_np2drake(back_can_pts_world.T , [0, 255, 255]), name='pcl_can_back')\n",
        "visualize_pointcloud(vis, pcl_np2drake(all_pts , [56, 186, 58]), name='pcl_can')"
      ],
      "execution_count": null,
      "outputs": []
    },
    {
      "cell_type": "markdown",
      "metadata": {
        "id": "iHEvp1bHqUO4"
      },
      "source": [
        "### Normal Estimation ###"
      ]
    },
    {
      "cell_type": "code",
      "metadata": {
        "id": "ku0lBQAiqTRV",
        "colab": {
          "base_uri": "https://localhost:8080/"
        },
        "outputId": "e84394af-9bdc-4ff8-c5b9-3809b42e0abb"
      },
      "source": [
        "def vis_normals(vis, normals, num=0):\n",
        "    '''\n",
        "    Adapted from 'normal_estimation_depth.ipynb' pset.\n",
        "    :param num: value to start the normal vector naming at\n",
        "    '''\n",
        "    for i in range(len(normals)):\n",
        "      name = 'normal_vec_{}'.format(i + num)\n",
        "      AddTriad(vis=vis, name=name, prefix='', length=0.01, radius=0.001)\n",
        "      vis[''][name].set_transform(normals[i].GetAsMatrix4())\n",
        "    \n",
        "def bbox(img):\n",
        "    '''\n",
        "    Adapted from 'normal_estimation_depth.ipynb' pset.\n",
        "    '''\n",
        "    a = np.where(img != 0)\n",
        "    bbox = ([np.min(a[0]), np.max(a[0])], [np.min(a[1]), np.max(a[1])])\n",
        "    return bbox\n",
        "\n",
        "def estimate_normal_by_nearest_pixels(X_WC, mask, depth_im, pC, uv_step=10):\n",
        "    \"\"\"\n",
        "    From 'normal_estimation_depth.ipynb' pset.\n",
        "    Compute the surface normals from the nearest pixels (by a sliding window)\n",
        "    Input:\n",
        "        X_WC: RigidTransform of the camera in world frame\n",
        "        mask: 1 at pixels that are represented as points in the point cloud\n",
        "        depth_im: depth image from camera\n",
        "        pC: 3D points computed from the depth image in the camera frame\n",
        "        uv_step: recommended step size for the sliding window (see codes below)\n",
        "    Output:\n",
        "        normals: a list of RigidTransforms of the normal frames in world frame.\n",
        "                 The +z axis of the normal frame is the normal vector, it should\n",
        "                 points outward (towards the camera)\n",
        "    \"\"\"\n",
        "    def get_index(image_index):\n",
        "        # returns pC index (1D) from depth image index (2D)\n",
        "        return image_index[0]*depth_im.shape[1] + image_index[1]\n",
        "\n",
        "    normals = []\n",
        "    u_bound, v_bound = bbox(mask)\n",
        "    print(\"u_bound:\", u_bound)\n",
        "    print(\"v_bound:\", v_bound)\n",
        "    print(\"mask shape:\", mask.shape)\n",
        "    for u in range(u_bound[0], u_bound[1], uv_step):      # row\n",
        "        for v in range(v_bound[0], v_bound[1], uv_step):  # column\n",
        "            # center of the window at depth_im[u,v]\n",
        "            center = [u,v]\n",
        "            u_length = 3\n",
        "            v_length = 3\n",
        "            # side of the window\n",
        "            u_range = np.arange(center[0] - u_length, center[0] + u_length+1)\n",
        "            v_range = np.arange(center[1] - v_length, center[1] + v_length+1)\n",
        "            ###################\n",
        "            neighbors = pC[np.array([get_index([x,y]) for x in u_range for y in v_range])]\n",
        "            pstar = np.mean(neighbors, axis=0)\n",
        "            prel = neighbors - pstar\n",
        "            W = np.matmul(prel.T, prel)\n",
        "            w, V = np.linalg.eigh(W)\n",
        "            # w is eigenvalues in ascending order, columns of V are corresponding eigenvectors\n",
        "            # normal (z-axis) is the eigenvector with smallest eigenvalue\n",
        "            # If the normal vector point n(u,v) has the same direction with the ray from camera to point pC(u,v), the normal should be flipped \n",
        "            camera_vector = pC[get_index(center)]  # camera in camera frame is the origin, so it's pC(u,v) - (0,0)\n",
        "            if np.dot(camera_vector, V[:,0]) > 0:\n",
        "                V[:,0] *= -1\n",
        "            normals.append(X_WC.multiply(RigidTransform(RotationMatrix(np.fliplr(V)), camera_vector)))\n",
        "            ###################\n",
        "    return normals\n",
        "\n",
        "# ------------------------------------------------------------------------------\n",
        "\n",
        "front_normals = estimate_normal_by_nearest_pixels(project.front_cam_pose, front_mask, front_depth_im, front_can_pts_camera, uv_step=10)\n",
        "back_normals = estimate_normal_by_nearest_pixels(project.back_cam_pose, back_mask, back_depth_im, back_can_pts_camera, uv_step=10)\n",
        "# vis_normals(vis, front_normals, 0)\n",
        "# vis_normals(vis, back_normals, len(front_normals))"
      ],
      "execution_count": null,
      "outputs": [
        {
          "output_type": "stream",
          "text": [
            "u_bound: [36, 105]\n",
            "v_bound: [300, 380]\n",
            "mask shape: (480, 848)\n",
            "u_bound: [211, 316]\n",
            "v_bound: [439, 558]\n",
            "mask shape: (480, 848)\n"
          ],
          "name": "stdout"
        }
      ]
    },
    {
      "cell_type": "markdown",
      "metadata": {
        "id": "My18AOSbDt1g"
      },
      "source": [
        "### Antipodal Grasp ###"
      ]
    },
    {
      "cell_type": "code",
      "metadata": {
        "id": "Vto7YBdWEDIv",
        "colab": {
          "base_uri": "https://localhost:8080/"
        },
        "outputId": "f7629b7d-f8ca-4e3a-a03c-67094744551b"
      },
      "source": [
        "# Confirm or deny: antipodal grasp will be composed of two normals, one front normals and one from back normals.\n",
        "# It's never going to be two from front normals or two from back normals.\n",
        "\n",
        "def antipodal_pairs(front_normals, back_normals, error=0.01):\n",
        "    '''\n",
        "    Gets all antipodal pairs of normals, where one is from the front normals list\n",
        "    and the other is from the back normals list.\n",
        "    :param front_normals: list of RigidTransform (from front camera)\n",
        "    :param back_normals: list of RigidTransform (from back camera)\n",
        "    :param error: threshold to be considered parallel vectors\n",
        "    :return: list of antipodal pairs\n",
        "    '''\n",
        "    def is_invalid(normal):\n",
        "        '''\n",
        "        Checking if a normal is invalid.\n",
        "        The normal vector should be vertical because a camera above the litter\n",
        "        plate will never see a side of the object that could be antipodal to a\n",
        "        vertical vector.\n",
        "        Also discounting vectors too close to the ground because they normal\n",
        "        vectors of the litter plate, not the can.\n",
        "        :param normal: RigidTransform representing normal\n",
        "        :return: boolean if invalid or not\n",
        "        '''\n",
        "        vertical = np.array([0, 0, 1])\n",
        "        v = normal.rotation().multiply(vertical)\n",
        "        is_vertical = np.abs(np.dot(v/np.linalg.norm(v), vertical/np.linalg.norm(vertical)) - 1) <= error\n",
        "        is_on_ground = normal.translation()[-1] < 0.02\n",
        "        return is_vertical or is_on_ground\n",
        "\n",
        "    antipodal = []  # tuple pairs of antipodal normals\n",
        "    vert = np.array([0, 0, 1])\n",
        "    for f in front_normals:\n",
        "        if is_invalid(f):\n",
        "            continue\n",
        "        f_vec = f.rotation().multiply(vert)\n",
        "        for b in back_normals:\n",
        "            if is_invalid(b):\n",
        "                continue\n",
        "            b_vec = b.rotation().multiply(vert)\n",
        "            vec_between_normals = f.translation() - b.translation()\n",
        "            if np.abs(np.dot(f_vec/np.linalg.norm(f_vec), b_vec/np.linalg.norm(b_vec)) - -1) <= error:  # normals are antipodal\n",
        "                if np.abs(np.dot(f_vec/np.linalg.norm(f_vec), vec_between_normals/np.linalg.norm(vec_between_normals)) - 1) <= error:  # normals are across from each other \n",
        "                    antipodal.append([f, b])\n",
        "    return np.array(antipodal)\n",
        "\n",
        "# ------------------------------------------------------------------------------\n",
        "\n",
        "antipodal = antipodal_pairs(front_normals, back_normals)\n",
        "print(antipodal.shape)\n",
        "antipodal_flat = np.array(list(set(antipodal.reshape((antipodal.size,)).tolist())))  # getting rid of duplicate normals\n",
        "# print(antipodal_flat.shape)\n",
        "# vis_normals(vis, antipodal_flat)"
      ],
      "execution_count": null,
      "outputs": [
        {
          "output_type": "stream",
          "text": [
            "(24, 2)\n"
          ],
          "name": "stdout"
        }
      ]
    },
    {
      "cell_type": "code",
      "metadata": {
        "id": "GEp7lJl7G-qY",
        "colab": {
          "base_uri": "https://localhost:8080/"
        },
        "outputId": "7c9592c1-7059-4feb-a437-7cff692a8a41"
      },
      "source": [
        "def vec_angle(v1, v2):\n",
        "    return np.arccos(np.dot(v1, v2)/(np.linalg.norm(v1)*np.linalg.norm(v2)))\n",
        "\n",
        "# the center of the can in the x-y plane should be the average of all antipodal pair normals\n",
        "antipodal_positions = np.array([n.translation() for n in antipodal_flat])\n",
        "grip_position = np.mean(antipodal_positions, axis=0)\n",
        "# set the z coordinate to the highest normal which should be near the top of the can\n",
        "# add a margin above can so gripper doesn't hit it\n",
        "normal_positions = np.array([n.translation() for n in np.concatenate((front_normals, back_normals))])\n",
        "grip_position[2] = np.max(normal_positions[:, 2]) + 0.04\n",
        "print(\"grip position:\", grip_position)\n",
        "\n",
        "# finding rotation of gripper for grasp pose\n",
        "distance_between_normals = np.array([[np.linalg.norm(n1.translation() - n2.translation()), n1, n2] for n1, n2 in antipodal])  # [distance, one normal]\n",
        "distance_between_normals = np.array(sorted(distance_between_normals, key=lambda x: x[0]))\n",
        "pair = distance_between_normals[len(distance_between_normals)//2] # choose a set of normals that are not the max distance apart but also not the min to avoid outliers\n",
        "norm_vec = pair[2].rotation().multiply(np.array([0, 0, 1]))[:-1]  # using normal vector from back camera\n",
        "norm_vec = norm_vec/np.linalg.norm(norm_vec)\n",
        "if pair[0] < 0.098:  # if side normal, want to convert to a normal parallel to an end normal (if broken, use value < 0.098)\n",
        "    if norm_vec[0] > 0:  # if the normal is pointing to the right\n",
        "        norm_vec = np.dot(norm_vec, np.array([[np.cos(-np.pi/2), -np.sin(-np.pi/2)],[np.sin(-np.pi/2), np.cos(-np.pi/2)]]))\n",
        "    else:\n",
        "        norm_vec = np.dot(norm_vec, np.array([[np.cos(np.pi/2), -np.sin(np.pi/2)],[np.sin(np.pi/2), np.cos(np.pi/2)]]))\n",
        "\n",
        "angle = vec_angle(norm_vec, np.array([0, 1]))\n",
        "\n",
        "# We want the z-axis of the gripper to be parallel with normals of the ends of the can.\n",
        "# Angle of normal vector from back camera w.r.t. y-axis ranges from -pi/2 to pi/2 but\n",
        "# with an angle of -pi/2, arccos will return pi/2, so have to manually align the vectors.\n",
        "rot_matrix = np.array([[np.cos(angle), -np.sin(angle)],[np.sin(angle), np.cos(angle)]])\n",
        "grip_vec = np.dot(np.array([0, 1]), rot_matrix)\n",
        "\n",
        "print('norm vec:', norm_vec)\n",
        "print('grip vec:', grip_vec)\n",
        "print('angle between:', angle*180/np.pi, 'degrees')\n",
        "\n",
        "if np.abs(np.dot(norm_vec, grip_vec) - 1) < 10**(-4):  # if they are not parallel, then rotated counterclockwise instead of clockwise\n",
        "        print('was not parallel')\n",
        "        angle *= -1\n",
        "\n",
        "rot = RollPitchYaw(-np.pi/2, 0, angle)  # y-axis of gripper points down and yaw aligns with antipodal noramls\n",
        "vis_normals(vis, pair[1:])\n",
        "\n",
        "# ----- GRASP + PREGRASP -----\n",
        "grasp_tf = RigidTransform(rot, grip_position)\n",
        "pre_grasp_tf = RigidTransform(rot, grip_position + np.array([0, 0, 0.1]))\n",
        "# ----------------------------\n",
        "\n",
        "vis_normals(vis, [grasp_tf, pre_grasp_tf], 500)"
      ],
      "execution_count": null,
      "outputs": [
        {
          "output_type": "stream",
          "text": [
            "grip position: [-0.59817895  0.19992202  0.13811659]\n",
            "norm vec: [0.85853918 0.51274797]\n",
            "grip vec: [0.85853918 0.51274797]\n",
            "angle between: 59.1529551331667 degrees\n",
            "was not parallel\n"
          ],
          "name": "stdout"
        }
      ]
    },
    {
      "cell_type": "markdown",
      "metadata": {
        "id": "_t7WSkayBFb_"
      },
      "source": [
        "NOTES:\n",
        "- If don't want to rely on color for segmentation, can use RANSAC to remove plane (litter plate), convert point cloud points to depth image, then use blob detection (if no occluded images) to separate out elements in scene.\n",
        "- Front mask ends up with a 'True' at [0, 847] ???\n",
        "- Can easily have out of range errors (for depth mask) in normal estimation function"
      ]
    },
    {
      "cell_type": "markdown",
      "metadata": {
        "id": "xghXBT6h91CY"
      },
      "source": [
        "## Perception (multi can) ##"
      ]
    },
    {
      "cell_type": "markdown",
      "metadata": {
        "id": "FYK-2LpQ99HZ"
      },
      "source": [
        "Strategy:\n",
        "- Create separate masks for each can\n",
        "- For each can: calculate surface normals and only keep the vertical ones that are far from the ground\n",
        "    - The center of the can is the average position of the vertical normals in x-y plane\n",
        "    - If the vertical normals are taller than 0.105, then the can is vertical. If shorter, then the can is on its side.\n",
        "    - To calculate gripper pose:\n",
        "        - For vertical can, a center position of can is sufficient\n",
        "        - For sideways can, find vector between any two of the vertical normal positions. That vector is parallel to a normal of the end of the can. Use the same method as single can to calculate desired gripper rotation."
      ]
    },
    {
      "cell_type": "code",
      "metadata": {
        "colab": {
          "base_uri": "https://localhost:8080/"
        },
        "id": "sgRIN4HPts8h",
        "outputId": "296ccbff-7517-4dd8-c052-2c7c8e38fd52"
      },
      "source": [
        "# Setting up environment.\n",
        "project_multi = Project()\n",
        "vis_multi, initial_pose = project_multi.multi_object_environment()"
      ],
      "execution_count": null,
      "outputs": [
        {
          "output_type": "stream",
          "text": [
            "Connecting to meshcat-server at zmq_url=tcp://127.0.0.1:6001...\n",
            "You can open the visualizer by visiting the following URL:\n",
            "http://d624e4a0965a.ngrok.io/static/\n",
            "Connected to meshcat-server.\n"
          ],
          "name": "stdout"
        },
        {
          "output_type": "stream",
          "text": [
            "/opt/drake/lib/python3.6/site-packages/pydrake/systems/meshcat_visualizer.py:426: DrakeDeprecationWarning: The pose_bundle input port is deprecated.  Use e.g.\n",
            "builder.Connect(scene_graph.get_query_output_port(), visualizer.get_geometry_query_input_port())\n",
            "instead. The deprecated code will be removed from Drake on or after 2021-03-01.\n",
            "  \"instead.\", date=\"2021-03-01\")\n"
          ],
          "name": "stderr"
        },
        {
          "output_type": "stream",
          "text": [
            "initial pose trans: [4.69565839e-01 2.95894043e-16 1.99196358e-01]\n"
          ],
          "name": "stdout"
        }
      ]
    },
    {
      "cell_type": "markdown",
      "metadata": {
        "id": "SEPAGRUauzKK"
      },
      "source": [
        "### Functions from Single Object Perception ###"
      ]
    },
    {
      "cell_type": "code",
      "metadata": {
        "id": "fraZ1nbpuyXv"
      },
      "source": [
        "''' Point cloud utilities adapted from `pose_estimation_icp.ipynb` pset. '''\n",
        "def pcl_np2drake(pcl_np, color):\n",
        "    \"\"\"\n",
        "    Input: Nx3 np array of points in mm, and and 3x1 np array of color using uin8 format.\n",
        "    Output: drake Pointcloud object. \n",
        "    \"\"\"\n",
        "    assert(pcl_np.shape[1] == 3) # sanity check. \n",
        "    pcl_drake = PointCloud(new_size = pcl_np.shape[0],\n",
        "                           fields= Fields(BaseField.kXYZs | BaseField.kRGBs))\n",
        "    xyzs = pcl_drake.mutable_xyzs()\n",
        "    xyzs[:,:] = np.array(pcl_np).transpose()\n",
        "    rgbs = pcl_drake.mutable_rgbs()\n",
        "    rgbs[:,:] = np.tile(color, (pcl_np.shape[0], 1)).transpose()\n",
        "    return pcl_drake\n",
        "\n",
        "def visualize_pointcloud(vis, pcl, name=\"point_cloud\", X_WC=RigidTransform()):\n",
        "    \"\"\"\n",
        "    pcl: Drake pointcloud object. \n",
        "    All other formats should convert to this format before passing to visualization. \n",
        "    \"\"\"\n",
        "    vis[name].set_object(g.PointCloud(X_WC.multiply(pcl.xyzs()), pcl.rgbs() / 255., size=0.001))\n",
        "\n",
        "def visualize_pointcloud_xyzrgb(vis, pcl_xyz, pcl_rgb, name=\"point_cloud\", X_WC=RigidTransform()):\n",
        "    \"\"\"\n",
        "    Visualization function to access Meshcat's method more directly. \n",
        "    \"\"\"\n",
        "    vis[name].set_object(g.PointCloud(X_WC.multiply(pcl_xyz), pcl_rgb / 255., size=0.001))\n",
        "\n",
        "# ------------------------------------------------------------------------------\n",
        "\n",
        "def plotting(im1, im2, fig_num):\n",
        "    ''' Used for plotting side by side images (i.e. to show RGB image and its mask). '''\n",
        "    plt.figure(fig_num)\n",
        "    plt.subplot(1, 2, 1)\n",
        "    plt.imshow(im1)\n",
        "    plt.subplot(1, 2, 2)\n",
        "    plt.imshow(im2)\n",
        "\n",
        "def adjust_depth_image(im):\n",
        "    ''' Processing on depth image. '''\n",
        "    new_im = deepcopy(im)\n",
        "    # the values of 690 are the distance from camera to plate x1000\n",
        "    new_im = new_im/1000\n",
        "    new_im[new_im >= 10] = 1  # attempting to filter out values out of range of depth camera\n",
        "    return new_im\n",
        "\n",
        "def make_mask(im):\n",
        "    ''' Create mask from RGB image '''\n",
        "    # plate_color = np.array([233, 246, 254, 255])  # approxmiate color of the plate with no shadow.\n",
        "    u, v, w = im.shape\n",
        "    flat_im = im.reshape((u*v,w))  # 1D array where each element is a color vector.\n",
        "    # choosing all pixels that are not the plate color.\n",
        "    # flat_mask = np.logical_not(np.logical_and(np.all(flat_im >= plate_color - 50, axis=1), np.all(flat_im <= plate_color + 50, axis=1)))\n",
        "    flat_mask = np.logical_not(np.all(flat_im >= 100, axis=1))\n",
        "\n",
        "    mask = flat_mask.reshape((u, v))\n",
        "    # some points along the edge of the mask are shadows on the background (?) and they map to the\n",
        "    # plate, not the can, so if the edges are eroded away, then these outliers won't be included.\n",
        "    kernel = np.ones((3,3))\n",
        "    erode = cv2.erode(np.array(mask, dtype='uint8'), kernel)\n",
        "    mask = (erode == 1)\n",
        "    return mask\n",
        "\n",
        "# ------------------------------------------------------------------------------\n",
        "\n",
        "def image_to_points(project, depth_im):\n",
        "    '''\n",
        "    Projecting depth image data into pc points in camera frame.\n",
        "    Adapted from `normal_estimation_depth.ipynb`.\n",
        "    :param depth_im: depth image\n",
        "    :return: 1D array of point cloud points in camera frame\n",
        "    '''\n",
        "    # making each element in depth_pnts (index, depth)\n",
        "    u_range = np.arange(depth_im.shape[0])\n",
        "    v_range = np.arange(depth_im.shape[1])\n",
        "    depth_v, depth_u = np.meshgrid(v_range, u_range)\n",
        "    depth_pnts = np.dstack([depth_u, depth_v, depth_im])\n",
        "    depth_pnts = depth_pnts.reshape([depth_pnts.shape[0]*depth_pnts.shape[1], 3])\n",
        "    pC = project.project_depth_to_pC(depth_pnts)  # 1D array of point cloud point coords in camera frame\n",
        "    return pC\n",
        "\n",
        "def points_to_world_frame(pC, X_WC, mask=None):\n",
        "    '''\n",
        "    Projects point cloud points from camera frame to world frame. If a mask\n",
        "    is specified, then only keep point cloud points correponding to pixels\n",
        "    with value 1 in mask.\n",
        "    :param pC: 1D list of point cloud points (n x 3)\n",
        "    :param X_WC: transform of camera in world frame\n",
        "    :param mask: True at pixel to keep in depth image and False otherwise (HAS TO BE BOOLEAN)\n",
        "    :return: 1D array of point cloud points in world frame. (3 x m)\n",
        "    '''\n",
        "    if mask is None: return X_WC.multiply(pC)\n",
        "\n",
        "    pC = pC.reshape(mask.shape + (3,))               # returning pC back into 2D array the size of mask\n",
        "    can_pts_camera = pC[mask]                        # only want pc points corresponding to the can (m x 3)\n",
        "    can_pts_world = X_WC.multiply(can_pts_camera.T)  # converting points to world frame (3 x m)\n",
        "    return can_pts_world\n",
        "\n",
        "# ------------------------------------------------------------------------------\n",
        "\n",
        "def vis_normals(vis, normals, num=0):\n",
        "    '''\n",
        "    Adapted from `normal_estimation_depth.ipynb` pset.\n",
        "    :param num: value to start the normal vector naming at.\n",
        "    '''\n",
        "    for i in range(len(normals)):\n",
        "      name = 'normal_vec_{}'.format(i + num)\n",
        "      AddTriad(vis=vis, name=name, prefix='', length=0.01, radius=0.001)\n",
        "      vis[''][name].set_transform(normals[i].GetAsMatrix4())\n",
        "    \n",
        "def bbox(img):\n",
        "    '''\n",
        "    Adapted from `normal_estimation_depth.ipynb` pset.\n",
        "    '''\n",
        "    a = np.where(img != 0)\n",
        "    bbox = ([np.min(a[0]), np.max(a[0])], [np.min(a[1]), np.max(a[1])])\n",
        "    return bbox\n",
        "\n",
        "def estimate_normal_by_nearest_pixels(X_WC, mask, depth_im, pC, uv_step=10):\n",
        "    \"\"\"\n",
        "    Adapted from `normal_estimation_depth.ipynb` pset.\n",
        "    Compute the surface normals from the nearest pixels (by a sliding window)\n",
        "    :param X_WC:     RigidTransform of the camera in world frame\n",
        "    :param mask:     1 at pixels that are represented as points in the point cloud\n",
        "    :param depth_im: depth image from camera\n",
        "    :parm pC:        3D points computed from the depth image in the camera frame\n",
        "    :param uv_step:  recommended step size for the sliding window (see codes below)\n",
        "    :return: normals -- a list of RigidTransforms of the normal frames in world frame.\n",
        "                        The +z axis of the normal frame is the normal vector, it should\n",
        "                        points outward (towards the camera)\n",
        "    \"\"\"\n",
        "    def get_index(image_index):\n",
        "        # returns pC index (1D) from depth image index (2D)\n",
        "        return image_index[0]*depth_im.shape[1] + image_index[1]\n",
        "\n",
        "    normals = []\n",
        "    u_bound, v_bound = bbox(mask)\n",
        "    print(\"u_bound:\", u_bound)\n",
        "    print(\"v_bound:\", v_bound)\n",
        "    print(\"mask shape:\", mask.shape)\n",
        "    for u in range(u_bound[0], u_bound[1], uv_step):      # row\n",
        "        for v in range(v_bound[0], v_bound[1], uv_step):  # column\n",
        "            # center of the window at depth_im[u,v]\n",
        "            center = [u,v]\n",
        "            u_length = 3\n",
        "            v_length = 3\n",
        "            # side of the window\n",
        "            u_range = np.arange(center[0] - u_length, center[0] + u_length+1)\n",
        "            v_range = np.arange(center[1] - v_length, center[1] + v_length+1)\n",
        "            ###################\n",
        "            neighbors = pC[np.array([get_index([x,y]) for x in u_range for y in v_range])]\n",
        "            pstar = np.mean(neighbors, axis=0)\n",
        "            prel = neighbors - pstar\n",
        "            W = np.matmul(prel.T, prel)\n",
        "            w, V = np.linalg.eigh(W)\n",
        "            # w is eigenvalues in ascending order, columns of V are corresponding eigenvectors\n",
        "            # normal (z-axis) is the eigenvector with smallest eigenvalue\n",
        "            # If the normal vector point n(u,v) has the same direction with the ray from camera to point pC(u,v), the normal should be flipped \n",
        "            camera_vector = pC[get_index(center)]  # camera in camera frame is the origin, so it's pC(u,v) - (0,0)\n",
        "            if np.dot(camera_vector, V[:,0]) > 0:\n",
        "                V[:,0] *= -1\n",
        "            normals.append(X_WC.multiply(RigidTransform(RotationMatrix(np.fliplr(V)), camera_vector)))\n",
        "            ###################\n",
        "    return normals\n",
        "    \n",
        "# ------------------------------------------------------------------------------\n",
        "\n",
        "def antipodal_pairs(front_normals, back_normals, error=0.01):\n",
        "    '''\n",
        "    Gets all antipodal pairs of normals, where one is from the front normals list\n",
        "    and the other is from the back normals list.\n",
        "    :param front_normals: list of RigidTransform (from front camera)\n",
        "    :param back_normals: list of RigidTransform (from back camera)\n",
        "    :param error: threshold to be considered parallel vectors\n",
        "    :return: list of antipodal pairs\n",
        "    '''\n",
        "    def is_invalid(normal):\n",
        "        '''\n",
        "        Checking if a normal is invalid.\n",
        "        The normal vector should be vertical because a camera above the litter\n",
        "        plate will never see a side of the object that could be antipodal to a\n",
        "        vertical vector.\n",
        "        Also discounting vectors too close to the ground because they normal\n",
        "        vectors of the litter plate, not the can.\n",
        "        :param normal: RigidTransform representing normal\n",
        "        :return: boolean if invalid or not\n",
        "        '''\n",
        "        vertical = np.array([0, 0, 1])\n",
        "        v = normal.rotation().multiply(vertical)\n",
        "        is_vertical = np.abs(np.dot(v/np.linalg.norm(v), vertical/np.linalg.norm(vertical)) - 1) <= error\n",
        "        is_on_ground = normal.translation()[-1] < 0.02\n",
        "        return is_vertical or is_on_ground\n",
        "\n",
        "    antipodal = []  # tuple pairs of antipodal normals\n",
        "    vert = np.array([0, 0, 1])\n",
        "    for f in front_normals:\n",
        "        if is_invalid(f):\n",
        "            continue\n",
        "        f_vec = f.rotation().multiply(vert)\n",
        "        for b in back_normals:\n",
        "            if is_invalid(b):\n",
        "                continue\n",
        "            b_vec = b.rotation().multiply(vert)\n",
        "            vec_between_normals = f.translation() - b.translation()\n",
        "            if np.abs(np.dot(f_vec/np.linalg.norm(f_vec), b_vec/np.linalg.norm(b_vec)) - -1) <= error:  # normals are antipodal\n",
        "                if np.abs(np.dot(f_vec/np.linalg.norm(f_vec), vec_between_normals/np.linalg.norm(vec_between_normals)) - 1) <= error:  # normals are across from each other \n",
        "                    antipodal.append([f, b])\n",
        "    return np.array(antipodal)"
      ],
      "execution_count": null,
      "outputs": []
    },
    {
      "cell_type": "markdown",
      "metadata": {
        "id": "_uRPz3Ckmp0s"
      },
      "source": [
        "### Capture Images (top camera) ###"
      ]
    },
    {
      "cell_type": "code",
      "metadata": {
        "id": "oYiUReFEmtBz",
        "colab": {
          "base_uri": "https://localhost:8080/"
        },
        "outputId": "004b8575-aafd-43f2-b15b-5ae096fd8a53"
      },
      "source": [
        "# RGB image\n",
        "top_rgb_im = project_multi.get_top_rgb_im()\n",
        "\n",
        "plt.figure(1)\n",
        "plt.imshow(top_rgb_im)\n",
        "\n",
        "# Depth image\n",
        "top_depth_im = adjust_depth_image(project_multi.get_top_depth_im())\n",
        "\n",
        "plt.figure(2)\n",
        "plt.imshow(top_depth_im)\n",
        "\n",
        "# RGB image mask\n",
        "top_mask = make_mask(top_rgb_im)\n",
        "top_mask[0, 847] = False\n",
        "\n",
        "plt.figure(3)\n",
        "plt.imshow(top_mask)"
      ],
      "execution_count": null,
      "outputs": [
        {
          "output_type": "execute_result",
          "data": {
            "text/plain": [
              "<matplotlib.image.AxesImage at 0x7f93cc5bb358>"
            ]
          },
          "metadata": {
            "tags": []
          },
          "execution_count": 24
        },
        {
          "output_type": "display_data",
          "data": {
            "image/png": "[encoded data removed]",
            "text/plain": [
              "<Figure size 432x288 with 1 Axes>"
            ]
          },
          "metadata": {
            "tags": [],
            "needs_background": "light"
          }
        },
        {
          "output_type": "display_data",
          "data": {
            "image/png": "[encoded data removed]",
            "text/plain": [
              "<Figure size 432x288 with 1 Axes>"
            ]
          },
          "metadata": {
            "tags": [],
            "needs_background": "light"
          }
        },
        {
          "output_type": "display_data",
          "data": {
            "image/png": "[encoded data removed]",
            "text/plain": [
              "<Figure size 432x288 with 1 Axes>"
            ]
          },
          "metadata": {
            "tags": [],
            "needs_background": "light"
          }
        }
      ]
    },
    {
      "cell_type": "markdown",
      "metadata": {
        "id": "31FZE6UVbQmU"
      },
      "source": [
        "### Multi-object Segmentation ###\n"
      ]
    },
    {
      "cell_type": "code",
      "metadata": {
        "id": "a5VSDIxs_DTp",
        "colab": {
          "base_uri": "https://localhost:8080/"
        },
        "outputId": "130bd32d-31d3-432d-e661-c7aebcb46c79"
      },
      "source": [
        "def segment_multi_object(all_mask):\n",
        "    '''\n",
        "    Takes in a mask with potentially multiple objects and produces a separate\n",
        "    mask for each object. Assumes no two objects are touching in mask or else\n",
        "    they will be considered one single object.\n",
        "    :param all_mask: image where a pixel of 1 (True) is of an object, else 0 (False)\n",
        "    :return: a list of masks (dtype='bool') for each object in original mask\n",
        "    '''\n",
        "    mask = deepcopy(all_mask)\n",
        "    print('mask shape:', mask.shape)\n",
        "\n",
        "    def valid_index(index):\n",
        "        # checks if index is out of bounds of mask.\n",
        "        return 0 <= index[0] < mask.shape[0] and 0 <= index[1] < mask.shape[1]\n",
        "\n",
        "    def check_neighbors(index):\n",
        "        # returns indices of neighbors (left, right, top, bottom) that are also 1.\n",
        "        neighbor_indicies = np.array([[0, 1], [0, -1], [1, 0], [-1, 0]]) + np.array(index)\n",
        "        return {tuple(i) for i in neighbor_indicies if (valid_index(i) and mask[tuple(i)] == 1)}\n",
        "\n",
        "    def segment_one_object():\n",
        "        # returns all indicies belonging to one object.\n",
        "        r, c = np.where(mask == 1)\n",
        "        initial = (r[0], c[0])  # pick any index that is a 1 and expand out until all connecting 1s are found\n",
        "        o_indicies = {initial}\n",
        "        neighbors_to_check = [initial]\n",
        "        while neighbors_to_check:\n",
        "            next = neighbors_to_check.pop()\n",
        "            neighbors = check_neighbors(next)\n",
        "            neighbors_to_check += [n for n in neighbors if n not in o_indicies]\n",
        "            o_indicies.update(neighbors)\n",
        "        return np.array(list(o_indicies))\n",
        "\n",
        "    masks = []\n",
        "    while len(np.where(mask == 1)[0]) != 0:  # while there are still objects in the mask\n",
        "        indicies = segment_one_object().T\n",
        "        single_mask = np.zeros(mask.shape, dtype='bool')\n",
        "        single_mask[indicies[0], indicies[1]] = True\n",
        "        masks.append(single_mask)\n",
        "        mask[indicies[0], indicies[1]] = 0  # remove found object from original mask\n",
        "\n",
        "    return masks\n",
        "\n",
        "# SMALL TEST CASE:\n",
        "# top_mask = np.array([[0,0,0,1,0,0,0,0,0,0,0,0,0,0,0],\n",
        "#                      [0,0,1,1,0,1,0,0,0,0,0,1,1,1,0],\n",
        "#                      [0,0,1,1,1,1,0,0,0,0,0,0,1,1,0],\n",
        "#                      [0,0,1,1,0,0,0,1,1,0,0,0,1,1,0],\n",
        "#                      [0,0,0,1,0,0,1,0,1,1,0,1,1,0,0],\n",
        "#                      [0,0,0,0,0,1,1,0,1,1,0,1,1,0,0],\n",
        "#                      [0,0,0,0,0,1,1,1,1,1,0,0,1,0,0],\n",
        "#                      [0,0,0,0,0,0,0,0,0,0,0,0,0,0,0]])\n",
        "# plt.figure(0)\n",
        "# plt.imshow(top_mask)\n",
        "# masks = segment_multi_object(top_mask)\n",
        "# for i in range(len(masks)):\n",
        "#     plt.figure(i+1)\n",
        "#     plt.imshow(masks[i])\n",
        "\n",
        "plt.figure(0)\n",
        "plt.imshow(top_mask)\n",
        "top_masks = segment_multi_object(top_mask)\n",
        "for i in range(len(top_masks)):\n",
        "    plt.figure(i+1)\n",
        "    plt.imshow(top_masks[i])"
      ],
      "execution_count": null,
      "outputs": [
        {
          "output_type": "stream",
          "text": [
            "mask shape: (480, 848)\n"
          ],
          "name": "stdout"
        },
        {
          "output_type": "display_data",
          "data": {
            "image/png": "[encoded data removed]",
            "text/plain": [
              "<Figure size 432x288 with 1 Axes>"
            ]
          },
          "metadata": {
            "tags": [],
            "needs_background": "light"
          }
        },
        {
          "output_type": "display_data",
          "data": {
            "image/png": "[encoded data removed]",
            "text/plain": [
              "<Figure size 432x288 with 1 Axes>"
            ]
          },
          "metadata": {
            "tags": [],
            "needs_background": "light"
          }
        },
        {
          "output_type": "display_data",
          "data": {
            "image/png": "[encoded data removed]",
            "text/plain": [
              "<Figure size 432x288 with 1 Axes>"
            ]
          },
          "metadata": {
            "tags": [],
            "needs_background": "light"
          }
        },
        {
          "output_type": "display_data",
          "data": {
            "image/png": "[encoded data removed]",
            "text/plain": [
              "<Figure size 432x288 with 1 Axes>"
            ]
          },
          "metadata": {
            "tags": [],
            "needs_background": "light"
          }
        }
      ]
    },
    {
      "cell_type": "code",
      "metadata": {
        "id": "37EJ8CUQbZKm"
      },
      "source": [
        "# point clouds associated with cans\n",
        "top_can_pts_camera = image_to_points(project_multi, top_depth_im)  # n x 3 (407040 x 3)\n",
        "can_pts_world = [points_to_world_frame(top_can_pts_camera, project_multi.top_cam_pose, mask).T for mask in top_masks]\n",
        "\n",
        "all_pts = np.concatenate(can_pts_world)\n",
        "visualize_pointcloud(vis_multi, pcl_np2drake(all_pts , [56, 186, 58]), name='pcl_cans')"
      ],
      "execution_count": null,
      "outputs": []
    },
    {
      "cell_type": "markdown",
      "metadata": {
        "id": "aMlu5UM3evRV"
      },
      "source": [
        "### Normal Estimation ###"
      ]
    },
    {
      "cell_type": "code",
      "metadata": {
        "id": "B1vGWDwveuMe",
        "colab": {
          "base_uri": "https://localhost:8080/"
        },
        "outputId": "28641e77-df13-4630-c71d-36f81d224efd"
      },
      "source": [
        "top_normals = [estimate_normal_by_nearest_pixels(project_multi.top_cam_pose, mask, top_depth_im, top_can_pts_camera, uv_step=10) for mask in top_masks]\n",
        "# vis_normals(vis_multi, np.concatenate(top_normals), 0)"
      ],
      "execution_count": null,
      "outputs": [
        {
          "output_type": "stream",
          "text": [
            "u_bound: [87, 199]\n",
            "v_bound: [529, 638]\n",
            "mask shape: (480, 848)\n",
            "u_bound: [142, 234]\n",
            "v_bound: [308, 411]\n",
            "mask shape: (480, 848)\n",
            "u_bound: [365, 465]\n",
            "v_bound: [124, 231]\n",
            "mask shape: (480, 848)\n"
          ],
          "name": "stdout"
        }
      ]
    },
    {
      "cell_type": "code",
      "metadata": {
        "id": "6rU_33835GTd"
      },
      "source": [
        "def filter_normals(normals, error=0.01):\n",
        "    '''\n",
        "    Only want to keep normals that are vertical are not near the ground.\n",
        "    :param normals: list all surface normals.\n",
        "    :param error: threshold to be considered vertical\n",
        "    :return: list of normals that are vertical and off the ground.\n",
        "    '''\n",
        "    valid = []\n",
        "    vertical = np.array([0, 0, 1])\n",
        "    for normal in normals:\n",
        "        v = normal.rotation().multiply(vertical)\n",
        "        is_vertical = np.abs(np.dot(v/np.linalg.norm(v), vertical/np.linalg.norm(vertical)) - 1) <= error\n",
        "        is_on_ground = normal.translation()[-1] < 0.02\n",
        "        if is_vertical and (not is_on_ground):\n",
        "            valid.append(normal)\n",
        "    return np.array(valid)\n",
        "\n",
        "vertical_normals = [filter_normals(normals) for normals in top_normals]\n",
        "# vis_normals(vis_multi, np.concatenate(vertical_normals), 0)"
      ],
      "execution_count": null,
      "outputs": []
    },
    {
      "cell_type": "markdown",
      "metadata": {
        "id": "KobijVNvCv0q"
      },
      "source": [
        "### Determining Grasp Poses ###"
      ]
    },
    {
      "cell_type": "code",
      "metadata": {
        "id": "8-Toqd0eC9ZP",
        "colab": {
          "base_uri": "https://localhost:8080/"
        },
        "outputId": "17689e6b-06d1-4c3a-e3ab-6acf1dc91e78"
      },
      "source": [
        "def vec_angle(v1, v2):  # angle between vectors.\n",
        "    return np.arccos(np.dot(v1, v2)/(np.linalg.norm(v1)*np.linalg.norm(v2)))\n",
        "\n",
        "# The center of the can in the x-y plane should be the average of all vertical normal positions.\n",
        "normal_positions = [np.array([n.translation() for n in normals]) for normals in vertical_normals]\n",
        "grip_positions = np.array([np.mean(positions, axis=0) for positions in normal_positions])\n",
        "# Set the z coordinate to the highest normal which should be near the top of the can.\n",
        "offset = 0.02  # add a margin above can so gripper doesn't hit it\n",
        "for i in range(len(grip_positions)):\n",
        "    grip_positions[i][2] = np.max(normal_positions[i][:, 2]) + offset\n",
        "print(\"grip position:\", grip_positions)\n",
        "\n",
        "# Determining if the can is vertical or horizontal.\n",
        "# True = vertical, False = horizontal\n",
        "orientations = [p[2] >= 0.105 + offset for p in grip_positions]\n",
        "print(\"orientations:\", orientations)\n",
        "\n",
        "# Finding rotation of gripper for grasp pose.\n",
        "#  - For vertical can, a center position of can is sufficient (any rotation in x-y plane can pick up can).\n",
        "#  - For horizontal can, the linear regression through vertical normal positions in x-y plane is parallel\n",
        "#    to the normals on the ends of the can. Use same method single can to find gripper pose rotation.\n",
        "rotations = []\n",
        "for i in range(len(normal_positions)):\n",
        "    if orientations[i]:  # vertical can\n",
        "        rotations.append(RollPitchYaw(-np.pi/2, 0, 0))\n",
        "    else:\n",
        "        m, b = np.polyfit(normal_positions[i].T[0], normal_positions[i].T[1], 1)\n",
        "        norm_vec = np.array([1, m])\n",
        "        norm_vec = norm_vec/np.linalg.norm(norm_vec)  # parallel to normal from end of can\n",
        "\n",
        "        angle = vec_angle(norm_vec, np.array([0, 1]))\n",
        "        \n",
        "        # We want the z-axis of the gripper to be parallel with normals of the ends of the can.\n",
        "        # Angle of normal vector from back camera w.r.t. y-axis ranges from -pi/2 to pi/2 but\n",
        "        # with an angle of -pi/2, arccos will return pi/2, so have to manually align the vectors.\n",
        "        rot_matrix = np.array([[np.cos(angle), -np.sin(angle)],[np.sin(angle), np.cos(angle)]])\n",
        "        grip_vec = np.dot(np.array([0, 1]), rot_matrix)\n",
        "\n",
        "        print('norm vec:', norm_vec)\n",
        "        print('grip vec:', grip_vec)\n",
        "        print('angle between:', angle*180/np.pi, 'degrees')\n",
        "\n",
        "        if np.abs(np.dot(norm_vec, grip_vec) - 1) < 10**(-4):  # Ff they are not parallel, then rotated counterclockwise instead of clockwise.\n",
        "            print('was not parallel')\n",
        "            angle *= -1\n",
        "        \n",
        "        rot = RollPitchYaw(-np.pi/2, 0, angle)  # y-axis of gripper points down and yaw aligns with antipodal noramls.\n",
        "        rotations.append(rot)\n",
        "\n",
        "# ----- GRASP + PREGRASP -----\n",
        "grasps = []  # (grasp_tf, pre_grasp_tf)\n",
        "for i in range(len(rotations)):\n",
        "    grasps.append((RigidTransform(rotations[i], grip_positions[i]),\n",
        "                   RigidTransform(rotations[i], grip_positions[i] + np.array([0, 0, 0.1]))))\n",
        "grasps = np.array(grasps)\n",
        "# ----------------------------\n",
        "\n",
        "vis_normals(vis_multi, grasps.reshape((grasps.shape[0]*grasps.shape[1],)), 500)"
      ],
      "execution_count": null,
      "outputs": [
        {
          "output_type": "stream",
          "text": [
            "grip position: [[-0.59632567  0.19973616  0.118     ]\n",
            " [-0.55038999 -0.04493492  0.118     ]\n",
            " [-0.30061824 -0.25031617  0.131     ]]\n",
            "orientations: [False, False, True]\n",
            "norm vec: [0.88689551 0.46197008]\n",
            "grip vec: [0.88689551 0.46197008]\n",
            "angle between: 62.485693677567426 degrees\n",
            "was not parallel\n",
            "norm vec: [ 0.40614758 -0.9138075 ]\n",
            "grip vec: [ 0.40614758 -0.9138075 ]\n",
            "angle between: 156.0369398440271 degrees\n",
            "was not parallel\n"
          ],
          "name": "stdout"
        }
      ]
    },
    {
      "cell_type": "markdown",
      "metadata": {
        "id": "ez_hSv7_zz_r"
      },
      "source": [
        "## Motion Planning ##\n",
        "\n",
        "Strategy: \n",
        "1. For each can, pass through `pre_grasp`, `grasp`, `aboveplate`, `midframe`, `abovebin`, and release\n",
        "2. Optimization-based inverse kinematics (given end effector trajectory (poses), `MathematicalProgram()` solves for joint trajectory), subject to joint constraints (max velocities etc), positional and rotational deviations from nominal trajectory\n",
        "<!--  $\\min ||q-q_{desired}||_2^2$ s.t. conditions... -->"
      ]
    },
    {
      "cell_type": "markdown",
      "metadata": {
        "id": "gKqtJxmPBvbM"
      },
      "source": [
        "#### Initialization"
      ]
    },
    {
      "cell_type": "code",
      "metadata": {
        "id": "WdP8_mMnBwEZ"
      },
      "source": [
        "def visualize_transform(vis, name, transform, prefix='', length=0.1, radius=0.006, opacity=0.1):\n",
        "    # Support RigidTransform as well as 4x4 homogeneous matrix.\n",
        "    if isinstance(transform, RigidTransform):\n",
        "        transform = transform.GetAsMatrix4()\n",
        "    AddTriad(vis, name=name, prefix=prefix, length=length, radius=0.005, opacity=opacity)\n",
        "    vis[prefix][name].set_transform(transform)\n",
        "\n",
        "# ------------------------------------------------------------------------------\n",
        "\n",
        "# Pre-determined frames.\n",
        "abovebin = RigidTransform(RollPitchYaw(-np.pi/2, 0, 0), [1, 0, 0.5])\n",
        "midframe = RigidTransform(RollPitchYaw(0, 0, 0), [0, 0.5, 0.3])\n",
        "aboveplate = RigidTransform(RollPitchYaw(-np.pi/2, 0, 0), [-0.5, 0, 0.3])\n",
        "grasp_tfs, pre_grasp_tfs = grasps.T\n",
        "\n",
        "visualize_transform(vis_multi, 'midframe', midframe, opacity=0.8)\n",
        "visualize_transform(vis_multi, 'abovebin', abovebin, opacity=0.8)\n",
        "visualize_transform(vis_multi, 'aboveplate', aboveplate, opacity=0.8)"
      ],
      "execution_count": null,
      "outputs": []
    },
    {
      "cell_type": "markdown",
      "metadata": {
        "id": "CNYMRNsZEXwi"
      },
      "source": [
        "### Determining Joint Positions ###\n",
        "Given keypoints, interpolate a trajectory, and translate to joint poses.\n",
        "\n",
        "The majority of the following code is adapted from the `door_opening.ipynb` pset."
      ]
    },
    {
      "cell_type": "code",
      "metadata": {
        "id": "hv7rkZSB1Gpu"
      },
      "source": [
        "# door_opening code, also grasping cylinder and solving for a trajectory given constraints using prog = MathematicalProgram();\n",
        "def CreateIiwaControllerPlant():\n",
        "    \"\"\"creates plant that includes only the robot and gripper, used for controllers.\"\"\"\n",
        "    robot_sdf_path = FindResourceOrThrow(\n",
        "        \"drake/manipulation/models/iiwa_description/iiwa7/iiwa7_with_box_collision.sdf\")\n",
        "    gripper_sdf_path = FindResourceOrThrow(\n",
        "        \"drake/manipulation/models/wsg_50_description/sdf/schunk_wsg_50_no_tip.sdf\")\n",
        "    sim_timestep = 1e-3\n",
        "    plant_robot = MultibodyPlant(sim_timestep)\n",
        "    parser = Parser(plant=plant_robot)\n",
        "    parser.AddModelFromFile(robot_sdf_path)\n",
        "    parser.AddModelFromFile(gripper_sdf_path)\n",
        "    plant_robot.WeldFrames(\n",
        "        A=plant_robot.world_frame(),\n",
        "        B=plant_robot.GetFrameByName(\"iiwa_link_0\"))\n",
        "    plant_robot.WeldFrames(\n",
        "        A=plant_robot.GetFrameByName(\"iiwa_link_7\"),\n",
        "        B=plant_robot.GetFrameByName(\"body\"),\n",
        "        X_AB=RigidTransform(RollPitchYaw(np.pi / 2, 0, np.pi / 2), np.array([0, 0, 0.114]))\n",
        "    )\n",
        "    plant_robot.mutable_gravity_field().set_gravity_vector([0, 0, 0])\n",
        "    plant_robot.Finalize()\n",
        "\n",
        "    link_frame_indices = []\n",
        "    for i in range(8):\n",
        "        link_frame_indices.append(\n",
        "            plant_robot.GetFrameByName(\"iiwa_link_\" + str(i)).index())\n",
        "\n",
        "    return plant_robot, link_frame_indices\n",
        "\n",
        "def make_gripper_orientation_trajectory(t_start, t_end, tf_start, tf_end):\n",
        "    '''Interpolates between two orientations for given time range.'''\n",
        "    traj = PiecewiseQuaternionSlerp()\n",
        "    traj.Append(t_start, tf_start.rotation())\n",
        "    traj.Append(t_end, tf_end.rotation())\n",
        "    return traj\n",
        "\n",
        "def make_gripper_position_trajectory(t_start, t_end, tf_start, tf_end):\n",
        "    '''Interpolates between two translations for give time range.'''\n",
        "    traj = PiecewisePolynomial.FirstOrderHold(\n",
        "        [t_start, t_end],\n",
        "        np.vstack([[tf_start.translation()],\n",
        "                   [tf_end.translation()]]).T)\n",
        "    return traj\n",
        "\n",
        "def make_gripper_trajectory(t_start, t_end, tf_start, tf_end):\n",
        "    rot = make_gripper_orientation_trajectory(t_start, t_end, tf_start, tf_end)\n",
        "    trans = make_gripper_position_trajectory(t_start, t_end, tf_start, tf_end)\n",
        "    return rot, trans\n",
        "\n",
        "'''\n",
        "Timestamps for 'recycling' one can:\n",
        "  - 0-5: aboveplate - pregrasp\n",
        "  - 5-10: pregrasp - grasp\n",
        "  - 10-13: close gripper\n",
        "  - 13-18: grasp - aboveplate\n",
        "  - 18-24: aboveplate - midframe\n",
        "  - 24-30: midframe - abovebin\n",
        "  - 30-33: open gripper\n",
        "  - 33-39: abovebin - midframe\n",
        "  - 39-45: midframe - aboveplate\n",
        "'''\n",
        "\n",
        "def InterpolatePoseEntry(t, rot_traj, trans_traj):\n",
        "    return RigidTransform(RotationMatrix(rot_traj.value(t)), trans_traj.value(t))\n",
        "\n",
        "# Wrapper function for end-effector pose. Total time per cycle: 7 seconds.\n",
        "def InterpolatePoseInit(t, init_pose, aboveplate, midframe, abovebin):\n",
        "    if (t < 5.0):\n",
        "        rot, trans = make_gripper_trajectory(0.0, 5.0, init_pose, midframe)\n",
        "        return InterpolatePoseEntry(t, rot, trans)\n",
        "    # elif (t >= 5.0) and (t < 10.0):\n",
        "    #     rot, trans = make_gripper_trajectory(5.0, 10.0, abovebin, midframe)\n",
        "    #     return InterpolatePoseEntry(t, rot, trans)\n",
        "    elif (t >= 5.0):\n",
        "        rot, trans = make_gripper_trajectory(5.0, 15.0, midframe, aboveplate)\n",
        "        return InterpolatePoseEntry(t, rot, trans)\n",
        "\n",
        "# Wrapper function for end-effector pose. Total time per cycle: 18 seconds.\n",
        "def InterpolatePose(t, pre_grasp, grasp, aboveplate, midframe, abovebin):\n",
        "    if (t < 5.0):\n",
        "        rot, trans = make_gripper_trajectory(0.0, 5.0, aboveplate, pre_grasp)\n",
        "        return InterpolatePoseEntry(t, rot, trans)\n",
        "    elif (t >= 5.0) and (t < 10.0):\n",
        "        rot, trans = make_gripper_trajectory(5.0, 10.0, pre_grasp, grasp)\n",
        "        return InterpolatePoseEntry(t, rot, trans)\n",
        "    elif (t >= 10.0) and (t < 13.0):\n",
        "        # Wait for a second to grip the can.\n",
        "        rot, trans = make_gripper_trajectory(5.0, 10.0, pre_grasp, grasp)\n",
        "        return InterpolatePoseEntry(10.0, rot, trans)\n",
        "    elif (t >= 13.0) and (t < 18.0):\n",
        "        rot, trans = make_gripper_trajectory(13.0, 18.0, grasp, aboveplate)\n",
        "        return InterpolatePoseEntry(t, rot, trans)\n",
        "    elif (t >= 18.0) and (t < 24.0):\n",
        "        rot, trans = make_gripper_trajectory(18.0, 24.0, aboveplate, midframe)\n",
        "        return InterpolatePoseEntry(t, rot, trans)\n",
        "    elif (t >= 24.0) and (t < 30.0):\n",
        "        rot, trans = make_gripper_trajectory(24.0, 30.0, midframe, abovebin)\n",
        "        return InterpolatePoseEntry(t, rot, trans)\n",
        "    elif (t >= 30.0) and (t < 33.0):\n",
        "        # Wait for a second to release the can.\n",
        "        rot, trans = make_gripper_trajectory(24.0, 30.0, midframe, abovebin)\n",
        "        return InterpolatePoseEntry(30.0, rot, trans)\n",
        "    elif (t >= 33.0) and (t < 39.0):\n",
        "        rot, trans = make_gripper_trajectory(33.0, 39.0, abovebin, midframe)\n",
        "        return InterpolatePoseEntry(t, rot, trans)\n",
        "    elif (t >= 39.0):\n",
        "        rot, trans = make_gripper_trajectory(39.0, 45.0, midframe, aboveplate)\n",
        "        return InterpolatePoseEntry(t, rot, trans)\n",
        "\n",
        "\n",
        "def create_q_knots(pose_lst):\n",
        "    \"\"\"Convert end-effector pose list to joint position list using series of\n",
        "    InverseKinematics problems. Note that q is 9-dimensional because the last 2 dimensions\n",
        "    contain gripper joints, but these should not matter to the constraints.\n",
        "    @param: pose_lst (python list): post_lst[i] contains keyframe X_WG at index i.\n",
        "    @return: q_knots (python_list): q_knots[i] contains IK solution that will give f(q_knots[i]) \\approx pose_lst[i].\n",
        "    \"\"\"\n",
        "    q_knots = []\n",
        "    plant, _ = CreateIiwaControllerPlant()\n",
        "    world_frame = plant.world_frame()\n",
        "    gripper_frame = plant.GetFrameByName(\"body\")\n",
        "    q_nominal = np.array([-2.25623770e-12, 4.37698706e-01, 1.71337848e-11, -1.27662123e+00,\n",
        "                          -1.20890032e-11, 7.29497844e-01, 2.13672825e-12, 0, 0])  # joint positions corresponding to intial pose\n",
        "\n",
        "    # nominal joint for joint-centering, just for initial step\n",
        "\n",
        "    def AddOrientationConstraint(ik, R_WG, bounds):\n",
        "        \"\"\"Add orientation constraint to the ik problem. Implements an inequality\n",
        "        constraint where the axis-angle difference between f_R(q) and R_WG must be\n",
        "        within bounds. Can be translated to:\n",
        "        ik.prog().AddBoundingBoxConstraint(angle_diff(f_R(q), R_WG), -bounds, bounds)\n",
        "        \"\"\"\n",
        "        ik.AddOrientationConstraint(\n",
        "            frameAbar=world_frame, R_AbarA=R_WG,\n",
        "            frameBbar=gripper_frame, R_BbarB=RotationMatrix(),\n",
        "            theta_bound=bounds\n",
        "        )\n",
        "\n",
        "    def AddPositionConstraint(ik, p_WG_lower, p_WG_upper):\n",
        "        \"\"\"Add position constraint to the ik problem. Implements an inequality\n",
        "        constraint where f_p(q) must lie between p_WG_lower and p_WG_upper. Can be\n",
        "        translated to\n",
        "        ik.prog().AddBoundingBoxConstraint(f_p(q), p_WG_lower, p_WG_upper)\n",
        "        \"\"\"\n",
        "        ik.AddPositionConstraint(\n",
        "            frameA=world_frame, frameB=gripper_frame, p_BQ=np.zeros(3),\n",
        "            p_AQ_lower=p_WG_lower, p_AQ_upper=p_WG_upper)\n",
        "\n",
        "    for i in range(len(pose_lst)):\n",
        "        ik = inverse_kinematics.InverseKinematics(plant)\n",
        "        q_variables = ik.q()  # Get variables for MathematicalProgram\n",
        "        prog = ik.prog()  # Get MathematicalProgram\n",
        "\n",
        "        if i == 0:\n",
        "            prog.SetInitialGuess(q_variables, q_nominal)\n",
        "        else:\n",
        "            prog.SetInitialGuess(q_variables, q_knots[-1])\n",
        "        pos = pose_lst[i].translation()\n",
        "        rot = pose_lst[i].rotation()\n",
        "        \n",
        "        if (0 <= (t_lst[i]-15)%len_cycle <= 14): \n",
        "          # in every cycle, when the gripper gets close to the can, reduce tolerance\n",
        "          tol = 0\n",
        "          AddPositionConstraint(ik, pos + np.array([-tol,-tol, 0]), pos + np.array([tol,tol,0]))\n",
        "          AddOrientationConstraint(ik, rot, 0.1)\n",
        "        else:\n",
        "          tol = 0.1\n",
        "          AddPositionConstraint(ik, pos + np.array([-tol,-tol,-tol]), pos + np.array([tol,tol,tol]))\n",
        "\n",
        "        result = Solve(prog)\n",
        "\n",
        "        if not result.is_success():\n",
        "            raise RuntimeError\n",
        "        \n",
        "        q_knots.append(result.GetSolution(q_variables))\n",
        "\n",
        "    return q_knots"
      ],
      "execution_count": null,
      "outputs": []
    },
    {
      "cell_type": "markdown",
      "metadata": {
        "id": "HahxIlqyHoNc"
      },
      "source": [
        "### `MathematicalProgram()` and Inverse Kinematics"
      ]
    },
    {
      "cell_type": "code",
      "metadata": {
        "id": "3GE0ezuempl3",
        "colab": {
          "base_uri": "https://localhost:8080/"
        },
        "outputId": "76561f4f-a3c0-4dc0-b6fb-9912cd7e648b"
      },
      "source": [
        "len_cycle = 45\n",
        "n_iters = int(np.size(grasps,0))\n",
        "t_end = 15 + len_cycle * n_iters\n",
        "t_lst = np.linspace(0, t_end, 3*t_end)\n",
        "\n",
        "# Create gripper trajectory.\n",
        "gripper_t_lst = [0.0]\n",
        "gripper_knots = [0.107]\n",
        "pose_lst = []\n",
        "for iter in range(n_iters):\n",
        "  gripper_t_lst.extend([15+iter*len_cycle+i for i in (10.,12.,30.,33.)])\n",
        "  gripper_knots.extend([0.107, 0., 0.,0.107])\n",
        "gripper_t_lst = np.array(gripper_t_lst)\n",
        "gripper_knots = np.array(gripper_knots).reshape(1,len(gripper_knots))\n",
        "\n",
        "for t in t_lst:\n",
        "  if t < 15:\n",
        "    pose = InterpolatePoseInit(t,initial_pose,aboveplate,midframe,abovebin)\n",
        "  else:\n",
        "    iter = int((t-15)//len_cycle)\n",
        "    iter = iter if iter < n_iters else int(n_iters-1)\n",
        "    pose = InterpolatePose(t-15-iter*len_cycle, pre_grasp_tfs[iter], grasp_tfs[iter], aboveplate, midframe, abovebin)\n",
        "  \n",
        "#   visualize_transform(vis_multi, str(t), pose)\n",
        "  pose_lst.append(pose)\n",
        "\n",
        "\n",
        "######################################################################\n",
        "# # ONE CAN ONLY\n",
        "# grasp_tf, pre_grasp_tf = grasps[0]\n",
        "# # Visualize our end-effector nominal trajectory.\n",
        "# t_lst = np.linspace(0, 60, 60*3)\n",
        "# pose_lst = []\n",
        "# for t in t_lst:\n",
        "#     if t < 15:\n",
        "#         pose = InterpolatePoseInit(t,initial_pose,aboveplate,midframe,abovebin)\n",
        "#     else:\n",
        "#         pose = InterpolatePose(t-15,pre_grasp_tf,grasp_tf,aboveplate,midframe,abovebin)\n",
        "\n",
        "#     visualize_transform(vis_multi, str(t), pose, opacity=0.1)\n",
        "#     pose_lst.append(pose)\n",
        "\n",
        "# # Create gripper trajectory.\n",
        "# gripper_t_lst = np.array([0.,25.,27.,45.,48.,60.])\n",
        "# gripper_knots = np.array([0.107, 0.107, 0., 0.,0.107,0.107]).reshape(1,6)\n",
        "#######################################################################\n",
        "\n",
        "g_traj = PiecewisePolynomial.FirstOrderHold(gripper_t_lst, gripper_knots)\n",
        "\n",
        "q_knots = np.array(create_q_knots(pose_lst))\n",
        "q_traj = PiecewisePolynomial.CubicShapePreserving(t_lst, q_knots[:, 0:7].T)\n",
        "\n",
        "proj = Project()\n",
        "vis, simulator, plant, diagram = proj.build_and_simulate_trajectory_environment(q_traj, g_traj)\n",
        "simulator.AdvanceTo(0.1)"
      ],
      "execution_count": null,
      "outputs": [
        {
          "output_type": "stream",
          "text": [
            "Connecting to meshcat-server at zmq_url=tcp://127.0.0.1:6001...\n",
            "You can open the visualizer by visiting the following URL:\n",
            "http://d624e4a0965a.ngrok.io/static/\n",
            "Connected to meshcat-server.\n"
          ],
          "name": "stdout"
        },
        {
          "output_type": "stream",
          "text": [
            "/opt/drake/lib/python3.6/site-packages/pydrake/systems/meshcat_visualizer.py:426: DrakeDeprecationWarning: The pose_bundle input port is deprecated.  Use e.g.\n",
            "builder.Connect(scene_graph.get_query_output_port(), visualizer.get_geometry_query_input_port())\n",
            "instead. The deprecated code will be removed from Drake on or after 2021-03-01.\n",
            "  \"instead.\", date=\"2021-03-01\")\n"
          ],
          "name": "stderr"
        },
        {
          "output_type": "execute_result",
          "data": {
            "text/plain": [
              "<pydrake.systems.analysis.SimulatorStatus at 0x7f93d2910270>"
            ]
          },
          "metadata": {
            "tags": []
          },
          "execution_count": 32
        }
      ]
    },
    {
      "cell_type": "code",
      "metadata": {
        "id": "vlEV5BKc3MZK",
        "colab": {
          "base_uri": "https://localhost:8080/"
        },
        "outputId": "3a9a1c3f-403c-442c-9f55-294f7f03d317"
      },
      "source": [
        "# Run simulation.\n",
        "simulator.AdvanceTo(t_end)"
      ],
      "execution_count": null,
      "outputs": [
        {
          "output_type": "execute_result",
          "data": {
            "text/plain": [
              "<pydrake.systems.analysis.SimulatorStatus at 0x7f93d5aea530>"
            ]
          },
          "metadata": {
            "tags": []
          },
          "execution_count": 16
        }
      ]
    },
    {
      "cell_type": "code",
      "metadata": {
        "colab": {
          "base_uri": "https://localhost:8080/",
          "height": 710
        },
        "id": "Y2AYe5VHXsWp",
        "outputId": "ebfff851-ad25-46b1-bb2f-5d325f932f2c"
      },
      "source": [
        "diagram.set_name(\"Block Diagram\")\n",
        "SVG(pydot.graph_from_dot_data(diagram.GetGraphvizString(max_depth=1))[0].create_svg())"
      ],
      "execution_count": null,
      "outputs": [
        {
          "output_type": "execute_result",
          "data": {
            "text/plain": [
              "<IPython.core.display.SVG object>"
            ],
            "image/svg+xml": "<svg height=\"517pt\" viewBox=\"0.00 0.00 1098.00 517.00\" width=\"1098pt\" xmlns=\"http://www.w3.org/2000/svg\" xmlns:xlink=\"http://www.w3.org/1999/xlink\">\n<g class=\"graph\" id=\"graph0\" transform=\"scale(1 1) rotate(0) translate(4 513)\">\n<title>_265273344</title>\n<polygon fill=\"#ffffff\" points=\"-4,4 -4,-513 1094,-513 1094,4 -4,4\" stroke=\"transparent\"/>\n<g class=\"cluster\" id=\"clust1\">\n<title>cluster265273344diagram</title>\n<polygon fill=\"none\" points=\"8,-8 8,-501 1082,-501 1082,-8 8,-8\" stroke=\"#000000\"/>\n<text fill=\"#000000\" font-family=\"Times,serif\" font-size=\"14.00\" text-anchor=\"middle\" x=\"545\" y=\"-485.8\">Block Diagram</text>\n</g>\n<g class=\"cluster\" id=\"clust4\">\n<title>cluster265273344subsystems</title>\n<polygon fill=\"none\" points=\"16,-16 16,-470 1074,-470 1074,-16 16,-16\" stroke=\"#ffffff\"/>\n</g>\n<!-- 276943360 -->\n<g class=\"node\" id=\"node1\">\n<title>276943360</title>\n<polygon fill=\"none\" points=\"469,-24.5 469,-461.5 869,-461.5 869,-24.5 469,-24.5\" stroke=\"#000000\"/>\n<text fill=\"#000000\" font-family=\"Times,serif\" font-size=\"14.00\" text-anchor=\"middle\" x=\"669\" y=\"-446.3\">manipulation_station</text>\n<polyline fill=\"none\" points=\"469,-438.5 869,-438.5 \" stroke=\"#000000\"/>\n<text fill=\"#000000\" font-family=\"Times,serif\" font-size=\"14.00\" text-anchor=\"middle\" x=\"566.5\" y=\"-383.3\">iiwa_position</text>\n<polyline fill=\"none\" points=\"469,-335.5 664,-335.5 \" stroke=\"#000000\"/>\n<text fill=\"#000000\" font-family=\"Times,serif\" font-size=\"14.00\" text-anchor=\"middle\" x=\"566.5\" y=\"-279.8\">iiwa_feedforward_torque</text>\n<polyline fill=\"none\" points=\"469,-231.5 664,-231.5 \" stroke=\"#000000\"/>\n<text fill=\"#000000\" font-family=\"Times,serif\" font-size=\"14.00\" text-anchor=\"middle\" x=\"566.5\" y=\"-176.3\">wsg_position</text>\n<polyline fill=\"none\" points=\"469,-128.5 664,-128.5 \" stroke=\"#000000\"/>\n<text fill=\"#000000\" font-family=\"Times,serif\" font-size=\"14.00\" text-anchor=\"middle\" x=\"566.5\" y=\"-72.8\">wsg_force_limit</text>\n<polyline fill=\"none\" points=\"664,-24.5 664,-438.5 \" stroke=\"#000000\"/>\n<text fill=\"#000000\" font-family=\"Times,serif\" font-size=\"14.00\" text-anchor=\"middle\" x=\"766.5\" y=\"-423.3\">iiwa_position_commanded</text>\n<polyline fill=\"none\" points=\"664,-415.5 869,-415.5 \" stroke=\"#000000\"/>\n<text fill=\"#000000\" font-family=\"Times,serif\" font-size=\"14.00\" text-anchor=\"middle\" x=\"766.5\" y=\"-400.3\">iiwa_position_measured</text>\n<polyline fill=\"none\" points=\"664,-392.5 869,-392.5 \" stroke=\"#000000\"/>\n<text fill=\"#000000\" font-family=\"Times,serif\" font-size=\"14.00\" text-anchor=\"middle\" x=\"766.5\" y=\"-377.3\">iiwa_velocity_estimated</text>\n<polyline fill=\"none\" points=\"664,-369.5 869,-369.5 \" stroke=\"#000000\"/>\n<text fill=\"#000000\" font-family=\"Times,serif\" font-size=\"14.00\" text-anchor=\"middle\" x=\"766.5\" y=\"-354.3\">iiwa_state_estimated</text>\n<polyline fill=\"none\" points=\"664,-346.5 869,-346.5 \" stroke=\"#000000\"/>\n<text fill=\"#000000\" font-family=\"Times,serif\" font-size=\"14.00\" text-anchor=\"middle\" x=\"766.5\" y=\"-331.3\">iiwa_torque_commanded</text>\n<polyline fill=\"none\" points=\"664,-323.5 869,-323.5 \" stroke=\"#000000\"/>\n<text fill=\"#000000\" font-family=\"Times,serif\" font-size=\"14.00\" text-anchor=\"middle\" x=\"766.5\" y=\"-308.3\">iiwa_torque_measured</text>\n<polyline fill=\"none\" points=\"664,-300.5 869,-300.5 \" stroke=\"#000000\"/>\n<text fill=\"#000000\" font-family=\"Times,serif\" font-size=\"14.00\" text-anchor=\"middle\" x=\"766.5\" y=\"-285.3\">wsg_state_measured</text>\n<polyline fill=\"none\" points=\"664,-277.5 869,-277.5 \" stroke=\"#000000\"/>\n<text fill=\"#000000\" font-family=\"Times,serif\" font-size=\"14.00\" text-anchor=\"middle\" x=\"766.5\" y=\"-262.3\">wsg_force_measured</text>\n<polyline fill=\"none\" points=\"664,-254.5 869,-254.5 \" stroke=\"#000000\"/>\n<text fill=\"#000000\" font-family=\"Times,serif\" font-size=\"14.00\" text-anchor=\"middle\" x=\"766.5\" y=\"-239.3\">iiwa_torque_external</text>\n<polyline fill=\"none\" points=\"664,-231.5 869,-231.5 \" stroke=\"#000000\"/>\n<text fill=\"#000000\" font-family=\"Times,serif\" font-size=\"14.00\" text-anchor=\"middle\" x=\"766.5\" y=\"-216.3\">camera_top_rgb_image</text>\n<polyline fill=\"none\" points=\"664,-208.5 869,-208.5 \" stroke=\"#000000\"/>\n<text fill=\"#000000\" font-family=\"Times,serif\" font-size=\"14.00\" text-anchor=\"middle\" x=\"766.5\" y=\"-193.3\">camera_top_depth_image</text>\n<polyline fill=\"none\" points=\"664,-185.5 869,-185.5 \" stroke=\"#000000\"/>\n<text fill=\"#000000\" font-family=\"Times,serif\" font-size=\"14.00\" text-anchor=\"middle\" x=\"766.5\" y=\"-170.3\">camera_top_label_image</text>\n<polyline fill=\"none\" points=\"664,-162.5 869,-162.5 \" stroke=\"#000000\"/>\n<text fill=\"#000000\" font-family=\"Times,serif\" font-size=\"14.00\" text-anchor=\"middle\" x=\"766.5\" y=\"-147.3\">pose_bundle</text>\n<polyline fill=\"none\" points=\"664,-139.5 869,-139.5 \" stroke=\"#000000\"/>\n<text fill=\"#000000\" font-family=\"Times,serif\" font-size=\"14.00\" text-anchor=\"middle\" x=\"766.5\" y=\"-124.3\">query_object</text>\n<polyline fill=\"none\" points=\"664,-116.5 869,-116.5 \" stroke=\"#000000\"/>\n<text fill=\"#000000\" font-family=\"Times,serif\" font-size=\"14.00\" text-anchor=\"middle\" x=\"766.5\" y=\"-101.3\">geometry_query</text>\n<polyline fill=\"none\" points=\"664,-93.5 869,-93.5 \" stroke=\"#000000\"/>\n<text fill=\"#000000\" font-family=\"Times,serif\" font-size=\"14.00\" text-anchor=\"middle\" x=\"766.5\" y=\"-78.3\">contact_results</text>\n<polyline fill=\"none\" points=\"664,-70.5 869,-70.5 \" stroke=\"#000000\"/>\n<text fill=\"#000000\" font-family=\"Times,serif\" font-size=\"14.00\" text-anchor=\"middle\" x=\"766.5\" y=\"-55.3\">plant_continuous_state</text>\n<polyline fill=\"none\" points=\"664,-47.5 869,-47.5 \" stroke=\"#000000\"/>\n<text fill=\"#000000\" font-family=\"Times,serif\" font-size=\"14.00\" text-anchor=\"middle\" x=\"766.5\" y=\"-32.3\">geometry_poses</text>\n</g>\n<!-- 177127424 -->\n<g class=\"node\" id=\"node4\">\n<title>177127424</title>\n<polygon fill=\"none\" points=\"905,-116.5 905,-185.5 1066,-185.5 1066,-116.5 905,-116.5\" stroke=\"#000000\"/>\n<text fill=\"#000000\" font-family=\"Times,serif\" font-size=\"14.00\" text-anchor=\"middle\" x=\"985.5\" y=\"-170.3\">meshcat_visualizer</text>\n<polyline fill=\"none\" points=\"905,-162.5 1066,-162.5 \" stroke=\"#000000\"/>\n<text fill=\"#000000\" font-family=\"Times,serif\" font-size=\"14.00\" text-anchor=\"middle\" x=\"975\" y=\"-147.3\">lcm_visualization</text>\n<polyline fill=\"none\" points=\"905,-139.5 1045,-139.5 \" stroke=\"#000000\"/>\n<text fill=\"#000000\" font-family=\"Times,serif\" font-size=\"14.00\" text-anchor=\"middle\" x=\"975\" y=\"-124.3\">geometry_query</text>\n<polyline fill=\"none\" points=\"1045,-116.5 1045,-162.5 \" stroke=\"#000000\"/>\n<text fill=\"#000000\" font-family=\"Times,serif\" font-size=\"14.00\" text-anchor=\"middle\" x=\"1055.5\" y=\"-135.8\"> </text>\n</g>\n<!-- 276943360&#45;&gt;177127424 -->\n<g class=\"edge\" id=\"edge1\">\n<title>276943360:y12-&gt;177127424:u0</title>\n<path d=\"M869,-151C881,-151 886.25,-151 894.875,-151\" fill=\"none\" stroke=\"#000000\"/>\n<polygon fill=\"#000000\" points=\"895,-154.5001 905,-151 895,-147.5001 895,-154.5001\" stroke=\"#000000\"/>\n</g>\n<!-- 272862208 -->\n<g class=\"node\" id=\"node2\">\n<title>272862208</title>\n<polygon fill=\"none\" points=\"24.5,-376 24.5,-422 432.5,-422 432.5,-376 24.5,-376\" stroke=\"#000000\"/>\n<text fill=\"#000000\" font-family=\"Times,serif\" font-size=\"14.00\" text-anchor=\"middle\" x=\"228.5\" y=\"-406.8\">drake/systems/TrajectorySource@0000000010438c00</text>\n<polyline fill=\"none\" points=\"24.5,-399 432.5,-399 \" stroke=\"#000000\"/>\n<text fill=\"#000000\" font-family=\"Times,serif\" font-size=\"14.00\" text-anchor=\"middle\" x=\"123\" y=\"-383.8\"> </text>\n<polyline fill=\"none\" points=\"221.5,-376 221.5,-399 \" stroke=\"#000000\"/>\n<text fill=\"#000000\" font-family=\"Times,serif\" font-size=\"14.00\" text-anchor=\"middle\" x=\"327\" y=\"-383.8\">y0</text>\n</g>\n<!-- 272862208&#45;&gt;276943360 -->\n<g class=\"edge\" id=\"edge2\">\n<title>272862208:y0-&gt;276943360:u0</title>\n<path d=\"M432.5,-387C444.6667,-387 449.9896,-387 458.7344,-387\" fill=\"none\" stroke=\"#000000\"/>\n<polygon fill=\"#000000\" points=\"459,-390.5001 469,-387 459,-383.5001 459,-390.5001\" stroke=\"#000000\"/>\n</g>\n<!-- 272865280 -->\n<g class=\"node\" id=\"node3\">\n<title>272865280</title>\n<polygon fill=\"none\" points=\"24,-169 24,-215 433,-215 433,-169 24,-169\" stroke=\"#000000\"/>\n<text fill=\"#000000\" font-family=\"Times,serif\" font-size=\"14.00\" text-anchor=\"middle\" x=\"228.5\" y=\"-199.8\">drake/systems/TrajectorySource@0000000010439800</text>\n<polyline fill=\"none\" points=\"24,-192 433,-192 \" stroke=\"#000000\"/>\n<text fill=\"#000000\" font-family=\"Times,serif\" font-size=\"14.00\" text-anchor=\"middle\" x=\"123\" y=\"-176.8\"> </text>\n<polyline fill=\"none\" points=\"222,-169 222,-192 \" stroke=\"#000000\"/>\n<text fill=\"#000000\" font-family=\"Times,serif\" font-size=\"14.00\" text-anchor=\"middle\" x=\"327.5\" y=\"-176.8\">y0</text>\n</g>\n<!-- 272865280&#45;&gt;276943360 -->\n<g class=\"edge\" id=\"edge3\">\n<title>272865280:y0-&gt;276943360:u2</title>\n<path d=\"M433,-180C445,-180 450.25,-180 458.875,-180\" fill=\"none\" stroke=\"#000000\"/>\n<polygon fill=\"#000000\" points=\"459,-183.5001 469,-180 459,-176.5001 459,-183.5001\" stroke=\"#000000\"/>\n</g>\n</g>\n</svg>"
          },
          "metadata": {
            "tags": []
          },
          "execution_count": 33
        }
      ]
    }
  ]
}